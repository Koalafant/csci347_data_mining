{
 "cells": [
  {
   "attachments": {},
   "cell_type": "markdown",
   "metadata": {},
   "source": [
    "# CSCI 347: Project 2: Exploring Graph Data\n",
    "### Mason Reyher, Henry Breckenridge, Jacob Sitch, Nathan Parnell"
   ]
  },
  {
   "attachments": {},
   "cell_type": "markdown",
   "metadata": {},
   "source": [
    "Choose a data set that you are interested in from one of the following sources: </br>\n",
    "SNAP collection: https://snap.stanford.edu/data </br>\n",
    "Network Repository: http://networkrepository.com/index.php"
   ]
  },
  {
   "attachments": {},
   "cell_type": "markdown",
   "metadata": {},
   "source": [
    "Run all the analysis in this project on the largest connected component of the graph. \n",
    "Note that many of these datasets are quite large. If analyzing the data its taking too long, you may preprocess it by taking a sample of the graph first, and then extracting the largest connected component, to get \n",
    "the graph down to a manageable size. "
   ]
  },
  {
   "attachments": {},
   "cell_type": "markdown",
   "metadata": {},
   "source": [
    "## Part 1: Think about the data \n",
    "In a well-written paragraph, answer the following questions: "
   ]
  },
  {
   "attachments": {},
   "cell_type": "markdown",
   "metadata": {},
   "source": [
    "1. [3 points] Why are you interested in this data set? \n"
   ]
  },
  {
   "cell_type": "markdown",
   "metadata": {},
   "source": []
  },
  {
   "attachments": {},
   "cell_type": "markdown",
   "metadata": {},
   "source": [
    "2. [3 points] Clearly state if/how the data was pre-processed (Was the largest connected component extracted? Was a sample of vertices or edges taken? If so, describe the sampling process that was used. ) \n",
    " \n"
   ]
  },
  {
   "cell_type": "markdown",
   "metadata": {},
   "source": []
  },
  {
   "attachments": {},
   "cell_type": "markdown",
   "metadata": {},
   "source": [
    "3. [6 points] Before doing any analysis, answer the following questions: \n",
    " \n"
   ]
  },
  {
   "attachments": {},
   "cell_type": "markdown",
   "metadata": {},
   "source": [
    "1. [2 points] What characteristics do you expect the vertices with high centrality values to have and \n",
    "why? Specifically, think about non-graph characteristics. For example, we might expect highly \n",
    "central cities to have high populations or to house major industries in a graph where nodes represent \n",
    "cities and edges are roads between them."
   ]
  },
  {
   "cell_type": "markdown",
   "metadata": {},
   "source": []
  },
  {
   "attachments": {},
   "cell_type": "markdown",
   "metadata": {},
   "source": [
    "2. [2 points] Do you think that the degree distribution will exhibit a power law? Why or why not? \n"
   ]
  },
  {
   "cell_type": "markdown",
   "metadata": {},
   "source": []
  },
  {
   "attachments": {},
   "cell_type": "markdown",
   "metadata": {},
   "source": [
    "3. [2 points] Do you think the graph will have the small-world property? Why or why not? \n"
   ]
  },
  {
   "cell_type": "markdown",
   "metadata": {},
   "source": []
  },
  {
   "attachments": {},
   "cell_type": "markdown",
   "metadata": {},
   "source": [
    "Part 2: Write functions for graph analysis in Python \n",
    "Write the following functions in Python. You may assume that the input graph is simple — that it is \n",
    "undirected, unweighted, and has no parallel edges and no loops. Functions provided by networkx can be \n",
    "used within your code, as long as the function does not perform the same task as what you are being asked \n",
    "to implement (for example, you cannot use networkx’s “betweenness_centrality” function within your own \n",
    "betweenness centrality function, but you can use networkx’s functions for finding shortest paths). You may \n",
    "also assume that vertices are represented as integers (so the pair (1,3) indicates that there is an edge between \n",
    "vertex 1 and 3, for example)."
   ]
  },
  {
   "attachments": {},
   "cell_type": "markdown",
   "metadata": {},
   "source": [
    "4. [5 points] Number of vertices: A function that takes the following input: a list of edges representing a \n",
    "graph, where each edge is a pair. The output should be the number of vertices. \n"
   ]
  },
  {
   "cell_type": "code",
   "execution_count": null,
   "metadata": {},
   "outputs": [],
   "source": [
    "def get_verts(g):\n",
    "    verts = 0\n",
    "    return verts"
   ]
  },
  {
   "attachments": {},
   "cell_type": "markdown",
   "metadata": {},
   "source": [
    "5. [5 points] Degree of a vertex: A function that takes the following input: a list of edges representing a \n",
    "graph, where each edge is a pair, and a vertex index that is an integer. The output should be the degree of \n",
    "the input vertex."
   ]
  },
  {
   "cell_type": "code",
   "execution_count": null,
   "metadata": {},
   "outputs": [],
   "source": [
    "def get_degree(g, v):\n",
    "    pass"
   ]
  },
  {
   "attachments": {},
   "cell_type": "markdown",
   "metadata": {},
   "source": [
    "6. [5 points] Clustering coefficient of a vertex: A function that takes the following input: a list of edges \n",
    "representing a graph, where each edge is a pair, and a vertex index that is an integer. The output should be \n",
    "the clustering coefficient of the input vertex."
   ]
  },
  {
   "cell_type": "code",
   "execution_count": null,
   "metadata": {},
   "outputs": [],
   "source": [
    "def get_clustering_coeff(g, v):\n",
    "    pass"
   ]
  },
  {
   "attachments": {},
   "cell_type": "markdown",
   "metadata": {},
   "source": [
    "7. [5 points] Betweenness centrality of a vertex: A function that takes the following input: a list of edges \n",
    "representing a graph, where each edge is a pair, and a vertex index that is an integer. The output should be \n",
    "the betweenness centrality of the input vertex."
   ]
  },
  {
   "cell_type": "code",
   "execution_count": null,
   "metadata": {},
   "outputs": [],
   "source": [
    "def get_betweenness(g, v):\n",
    "    pass"
   ]
  },
  {
   "attachments": {},
   "cell_type": "markdown",
   "metadata": {},
   "source": [
    "8. [5 points] Average shortest path length: A function that takes the following input: a list of edges \n",
    "representing a graph, where each edge is a pair. The output should be the average shortest path length of \n",
    "the graph. "
   ]
  },
  {
   "cell_type": "code",
   "execution_count": null,
   "metadata": {},
   "outputs": [],
   "source": [
    "def get_avg_shortest_path(g):\n",
    "    pass"
   ]
  },
  {
   "attachments": {},
   "cell_type": "markdown",
   "metadata": {},
   "source": [
    "9. [5 points] Adjacency matrix. A function that takes the following input: a list of edges representing a \n",
    "graph, where each edge is a pair. The output should be the dense adjacency matrix of the graph. \n"
   ]
  },
  {
   "cell_type": "code",
   "execution_count": null,
   "metadata": {},
   "outputs": [],
   "source": [
    "def get_adj_matrix(g):\n",
    "    pass"
   ]
  },
  {
   "attachments": {},
   "cell_type": "markdown",
   "metadata": {},
   "source": [
    "10. [5 points EXTRA CREDIT] Implement power iteration to find the eigenvector centrality of each node \n",
    "in a network: Write a function that takes as input an adjacency matrix, and outputs the eigenvector \n",
    "corresponding to the dominant eigenvector of that matrix (the eigenvector corresponding to the largest \n",
    "eigenvalue). The output can be used to view the eigenvector centrality of each vertex, when the input is a \n",
    "transposed adjacency matrix. This function must implement power iteration. You may not use linear \n",
    "algebra functions in numpy, spicy, or any other library to find eigenvectors/values, but you may use linear \n",
    "algebra functions for matrix-vector multiplication, computing the dot product, the norm. You may also use \n",
    "a function that implements argmax."
   ]
  },
  {
   "cell_type": "code",
   "execution_count": null,
   "metadata": {},
   "outputs": [],
   "source": []
  },
  {
   "attachments": {},
   "cell_type": "markdown",
   "metadata": {},
   "source": [
    "Part 3: Analyze the graph data\n",
    "Report the following, using tables or figures as appropriate. You may treat the graph as an undirected, \n",
    "unweighted graph with no loops or parallel edges. You may use networkx functions for all of Part 3, but \n",
    "you are encouraged to test out your functions from Part 2 on real-world data. \n"
   ]
  },
  {
   "attachments": {},
   "cell_type": "markdown",
   "metadata": {},
   "source": [
    "11. [5 points] Produce a visualization of the graph (or graph sample that you used). \n"
   ]
  },
  {
   "cell_type": "code",
   "execution_count": null,
   "metadata": {},
   "outputs": [],
   "source": []
  },
  {
   "attachments": {},
   "cell_type": "markdown",
   "metadata": {},
   "source": [
    "12. [3 points] Find the 10 nodes with the highest degree. \n"
   ]
  },
  {
   "cell_type": "code",
   "execution_count": null,
   "metadata": {},
   "outputs": [],
   "source": []
  },
  {
   "attachments": {},
   "cell_type": "markdown",
   "metadata": {},
   "source": [
    "13. [3 points] Find the 10 nodes with the highest betweenness centrality. \n"
   ]
  },
  {
   "cell_type": "code",
   "execution_count": null,
   "metadata": {},
   "outputs": [],
   "source": []
  },
  {
   "attachments": {},
   "cell_type": "markdown",
   "metadata": {},
   "source": [
    "14. [3 points] Find the 10 nodes with the highest clustering coefficient. If there are ties, choose 10 to report and explain how the 10 were chosen. \n",
    "\n"
   ]
  },
  {
   "cell_type": "code",
   "execution_count": null,
   "metadata": {},
   "outputs": [],
   "source": []
  },
  {
   "attachments": {},
   "cell_type": "markdown",
   "metadata": {},
   "source": [
    "15. [3 points] Find the top 10 nodes as ranked by eigenvector centrality \n"
   ]
  },
  {
   "cell_type": "code",
   "execution_count": null,
   "metadata": {},
   "outputs": [],
   "source": []
  },
  {
   "attachments": {},
   "cell_type": "markdown",
   "metadata": {},
   "source": [
    "16. [3 points] Find the top 10 nodes as ranked by Pagerank \n"
   ]
  },
  {
   "cell_type": "code",
   "execution_count": null,
   "metadata": {},
   "outputs": [],
   "source": []
  },
  {
   "attachments": {},
   "cell_type": "markdown",
   "metadata": {},
   "source": [
    "17. [3 points] Comment on the differences and similarities in questions 12-16. Are the highly ranked nodes \n",
    "mostly the same? Do you notice significant differences in the rankings? Why do you think this is the case? \n"
   ]
  },
  {
   "cell_type": "markdown",
   "metadata": {},
   "source": []
  },
  {
   "attachments": {},
   "cell_type": "markdown",
   "metadata": {},
   "source": [
    "18. [3 points] Compute the average shortest path length in the graph. Based on your result, does the graph \n",
    "exhibit small-world behavior?"
   ]
  },
  {
   "cell_type": "code",
   "execution_count": null,
   "metadata": {},
   "outputs": [],
   "source": []
  },
  {
   "attachments": {},
   "cell_type": "markdown",
   "metadata": {},
   "source": [
    "19. [5 points] Plot the degree distribution of the graph on a log-log-scale. Does the graph exhibit power law \n",
    "behavior? Include the plot and the code used to generate it in your submission. \n"
   ]
  },
  {
   "cell_type": "code",
   "execution_count": null,
   "metadata": {},
   "outputs": [],
   "source": []
  },
  {
   "attachments": {},
   "cell_type": "markdown",
   "metadata": {},
   "source": [
    "20. [3 points EXTRA CREDIT] Create a log-log plot with the logarithm of node degree on the x-axis and \n",
    "the logarithm of the average clustering coefficient of nodes with that degree on the y-axis. Does the \n",
    "clustering coefficient exhibit power law behavior (is there a clustering effect)? Include the plot and the code \n",
    "used to generate it in your submission. μL"
   ]
  },
  {
   "cell_type": "code",
   "execution_count": null,
   "metadata": {},
   "outputs": [],
   "source": []
  }
 ],
 "metadata": {
  "language_info": {
   "name": "python"
  },
  "orig_nbformat": 4
 },
 "nbformat": 4,
 "nbformat_minor": 2
}
