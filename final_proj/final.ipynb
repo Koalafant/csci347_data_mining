{
 "cells": [
  {
   "attachments": {},
   "cell_type": "markdown",
   "metadata": {},
   "source": [
    "### Final Project - CSCI 347\n",
    "#### Mason Reyher"
   ]
  },
  {
   "attachments": {},
   "cell_type": "markdown",
   "metadata": {},
   "source": [
    "#### Dataset: Hepatocellular Carcinoma (HCC) Survival </br>\n",
    "49 attributes, 165 instances. 23 categorical attributes and 26 numerical. </br>\n",
    "Using this dataset, we can verify or find factors that make cancer less survivable; or, with knowledge of pre-existing conditions, predict whether HCC will be fatal or not. The data contains attributes of patients such as: smoker, obese, diabetes; and more technical health problems (that I don't understand) such as: hypertension, thrombosis, metastasis. </br>\n",
    "All of these attributes can be used in combination with classifier algorithm, to determine how likely it is that a patient will survive HCC, given a number of pre-existing conditions. </br>\n",
    "I will either use a naive-bayes algorithm to classify, or a basic logistic regressor algorith, that will provide a probablility as its output. </br>\n",
    "I'd like to use both naive-bayes and logistic regression, but if I run out of time (likely) I'll just stick to naive-bayes. That will at least give plenty of results to look at and a predictor. \n"
   ]
  }
 ],
 "metadata": {
  "language_info": {
   "name": "python"
  },
  "orig_nbformat": 4
 },
 "nbformat": 4,
 "nbformat_minor": 2
}
