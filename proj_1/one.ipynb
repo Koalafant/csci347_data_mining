{
 "cells": [
  {
   "attachments": {},
   "cell_type": "markdown",
   "metadata": {},
   "source": [
    "# Project 1 - EDA \n",
    "#### Mason Reyher, Jamison Cleveland, Kade Aldrich, Mitch Froelich, Ryley Ourada"
   ]
  },
  {
   "attachments": {},
   "cell_type": "markdown",
   "metadata": {},
   "source": [
    "Initial setup:"
   ]
  },
  {
   "cell_type": "code",
   "execution_count": 12,
   "metadata": {},
   "outputs": [
    {
     "name": "stderr",
     "output_type": "stream",
     "text": [
      "  WARNING: The scripts fonttools.exe, pyftmerge.exe, pyftsubset.exe and ttx.exe are installed in 'C:\\Users\\meyher\\AppData\\Local\\Packages\\PythonSoftwareFoundation.Python.3.10_qbz5n2kfra8p0\\LocalCache\\local-packages\\Python310\\Scripts' which is not on PATH.\n",
      "  Consider adding this directory to PATH or, if you prefer to suppress this warning, use --no-warn-script-location.\n"
     ]
    }
   ],
   "source": [
    "!pip install pandas -q\n",
    "!pip install numpy -q \n",
    "!pip install matplotlib -q \n"
   ]
  },
  {
   "cell_type": "code",
   "execution_count": 13,
   "metadata": {},
   "outputs": [],
   "source": [
    "import pandas as pd\n",
    "import numpy as np\n",
    "import matplotlib.pyplot as plt"
   ]
  },
  {
   "attachments": {},
   "cell_type": "markdown",
   "metadata": {},
   "source": [
    "## Part 1"
   ]
  },
  {
   "attachments": {},
   "cell_type": "markdown",
   "metadata": {},
   "source": [
    "In a well-written paragraph, answer the following questions about the data:\n",
    "\n",
    "What was the data used for?\n",
    "\n",
    "Who (or what organization) uploaded the data?\n",
    "\n",
    "How many attributes and how many entities are represented in the data?\n",
    "\n",
    "How many numerical attributes?\n",
    "\n",
    "How many categorical attributes?\n",
    "\n",
    "Would you suggest that each categorical attribute be label-encoded or one-hot-\n",
    "encoded? Why?\n",
    "\n",
    "Are there missing values in the data? If so, what proportion of the data is missing\n",
    "overall? What proportion of data is missing per attribute (you may use a plot or table to\n",
    "summarize this information)?\n",
    "\n",
    "Why is this data set interesting to you?\n",
    "\n",
    "Of the attributes used to describe this data, which do you think are the most\n",
    "descriptive of the data and why (before doing any data analysis) ?\n"
   ]
  },
  {
   "attachments": {},
   "cell_type": "markdown",
   "metadata": {},
   "source": [
    "## Part 2"
   ]
  },
  {
   "attachments": {},
   "cell_type": "markdown",
   "metadata": {},
   "source": [
    "Use Python to write the following functions, without using any functions with the same purpose\n",
    "in sklearn, pandas, numpy, or any other library (though you may want to use these libraries to\n",
    "check your answers):\n",
    "\n",
    "A function that will compute the mean of a numerical, multidimensional data set\n",
    "input as a 2-dimensional numpy array\n",
    "\n",
    "A function that will compute the sample covariance between two attributes that are\n",
    "input as one-dimensional numpy vectors\n",
    "\n",
    "A function that will compute the correlation between two attributes that are input as\n",
    "two numpy vectors.\n",
    "\n",
    "A function that will normalize the attributes in a two-dimensional numpy array using\n",
    "range normalization.\n",
    "\n",
    "A function that will normalize the attributes in a two-dimensional numpy array using\n",
    "standard normalization.\n",
    "\n",
    "A function that will compute the covariance matrix of a data set.\n",
    "\n",
    "A function that will label-encode a two-dimensional categorical data array that is\n",
    "passed in as input."
   ]
  },
  {
   "attachments": {},
   "cell_type": "markdown",
   "metadata": {},
   "source": [
    "## Part 3"
   ]
  },
  {
   "attachments": {},
   "cell_type": "markdown",
   "metadata": {},
   "source": [
    "## Questions to Answer:"
   ]
  },
  {
   "attachments": {},
   "cell_type": "markdown",
   "metadata": {},
   "source": [
    "What is the multivariate mean of the numerical data matrix (where categorical data\n",
    "have been converted to numerical values)?\n",
    "\n",
    "What is the covariance matrix of the numerical data matrix (where categorical data\n",
    "have been converted to numerical values)?\n",
    "\n",
    "Choose 5 pairs of attributes that you think could be related. Create scatter plots of\n",
    "all 5 pairs and include these in your report, along with a description and analysis that\n",
    "summarizes why these pairs of attributes might be related, and how the scatter plots do or\n",
    "do not support this intuition.\n",
    "\n",
    "Which range-normalized numerical attributes have the greatest sample covariance?\n",
    "\n",
    "What is their sample covariance? Create a scatter plot of these range-normalized attributes.\n",
    "\n",
    "Which Z-score-normalized numerical attributes have the greatest correlation? What\n",
    "is their correlation? Create a scatter plot of these Z-score-normalized attributes.\n",
    "\n",
    "Which Z-score-normalized numerical attributes have the smallest correlation? What\n",
    "is their correlation? Create a scatter plot of these Z-score-normalized attributes.\n",
    "\n",
    "How many pairs of features have correlation greater than or equal to 0.5?\n",
    "\n",
    "How many pairs of features have negative sample covariance?\n",
    "\n",
    "What is the total variance of the data?\n",
    "\n",
    "What is the total variance of the data, restricted to the five features that have the\n",
    "greatest sample variance?"
   ]
  }
 ],
 "metadata": {
  "kernelspec": {
   "display_name": "Python 3",
   "language": "python",
   "name": "python3"
  },
  "language_info": {
   "codemirror_mode": {
    "name": "ipython",
    "version": 3
   },
   "file_extension": ".py",
   "mimetype": "text/x-python",
   "name": "python",
   "nbconvert_exporter": "python",
   "pygments_lexer": "ipython3",
   "version": "3.10.10"
  },
  "orig_nbformat": 4,
  "vscode": {
   "interpreter": {
    "hash": "a6724d8f0bd9fba0f5c38055f2d8f581ec7f6e460651e9787adae03cfa1bc691"
   }
  }
 },
 "nbformat": 4,
 "nbformat_minor": 2
}
