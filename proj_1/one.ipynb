{
 "cells": [
  {
   "attachments": {},
   "cell_type": "markdown",
   "metadata": {},
   "source": [
    "# Project 1 - EDA \n",
    "#### Mason Reyher, Jamison Cleveland, Kade Aldrich, Mitch Froelich, Ryley Ourada"
   ]
  },
  {
   "attachments": {},
   "cell_type": "markdown",
   "metadata": {},
   "source": [
    "Initial setup:"
   ]
  },
  {
   "cell_type": "code",
   "execution_count": null,
   "metadata": {},
   "outputs": [],
   "source": [
    "%pip install --upgrade pip -q\n",
    "%pip install pandas -q\n",
    "%pip install numpy -q \n",
    "%pip install matplotlib -q"
   ]
  },
  {
   "cell_type": "code",
   "execution_count": 6,
   "metadata": {},
   "outputs": [],
   "source": [
    "import pandas as pd\n",
    "import numpy as np\n",
    "import matplotlib.pyplot as plt\n",
    "import math"
   ]
  },
  {
   "attachments": {},
   "cell_type": "markdown",
   "metadata": {},
   "source": [
    "## Part 1"
   ]
  },
  {
   "attachments": {},
   "cell_type": "markdown",
   "metadata": {},
   "source": [
    "### In a well-written paragraph, answer the following questions about the data:"
   ]
  },
  {
   "attachments": {},
   "cell_type": "markdown",
   "metadata": {},
   "source": [
    "What was the data used for? </br>\n",
    "**This data was used in a paper about multi-attribute decision making (Neural nets, trees, etc.) (8th Intl Workshop on Expert\n",
    "   Systems and their Applications, Avignon, France. pages 59-78, 1988).** </br>\n",
    "**It was also used for, \"the evaluation\n",
    "   of HINT (Hierarchy INduction Tool)\" (B. Zupan, M. Bohanec, I. Bratko, J. Demsar: Machine learning by\n",
    "   function decomposition. ICML-97, Nashville, TN. 1997).**"
   ]
  },
  {
   "attachments": {},
   "cell_type": "markdown",
   "metadata": {},
   "source": [
    "Who (or what organization) uploaded the data?</br>\n",
    "**Marko Bohanec and Blaz Zupan, June 1997**\n"
   ]
  },
  {
   "attachments": {},
   "cell_type": "markdown",
   "metadata": {},
   "source": [
    "How many attributes and how many entities are represented in the data? </br>\n",
    "**6 Attributes officially; for our purposes, 7, because of the 'class' attribute.** </br>\n",
    "**The dataset has 1728 instances.**\n"
   ]
  },
  {
   "attachments": {},
   "cell_type": "markdown",
   "metadata": {},
   "source": [
    "How many numerical attributes? </br>\n",
    "**2**\n"
   ]
  },
  {
   "attachments": {},
   "cell_type": "markdown",
   "metadata": {},
   "source": [
    "How many categorical attributes? </br>\n",
    "**5**\n"
   ]
  },
  {
   "attachments": {},
   "cell_type": "markdown",
   "metadata": {},
   "source": [
    "Would you suggest that each categorical attribute be label-encoded or one-hot-\n",
    "encoded? Why? </br>\n",
    "**All categorical variables should be label encoded, not one-hot encoded. All variables are ranked via quality - for example, the price of a car 'buying' field is given a v-high, high, med, or low value. This is perfect for label-encoding. All other categorical variables assume this pattern as well.**"
   ]
  },
  {
   "attachments": {},
   "cell_type": "markdown",
   "metadata": {},
   "source": [
    "Are there missing values in the data? If so, what proportion of the data is missing\n",
    "overall? What proportion of data is missing per attribute (you may use a plot or table to\n",
    "summarize this information)?\n",
    "</br>\n",
    "**There is no missing data.**"
   ]
  },
  {
   "attachments": {},
   "cell_type": "markdown",
   "metadata": {},
   "source": [
    "Why is this data set interesting to you?\n",
    "</br>\n",
    "**ANSWER HERE**\n"
   ]
  },
  {
   "attachments": {},
   "cell_type": "markdown",
   "metadata": {},
   "source": [
    "Of the attributes used to describe this data, which do you think are the most\n",
    "descriptive of the data and why (before doing any data analysis) ?\n",
    "</br>\n",
    "**the 'buying' and 'safety' attributes seem to be the most important. Before doing analysis, it would be probable to assume the more safe a car is, the more it would be worth. Most attributes are fairly important for a car (maintenace costs...), so the least important is likely the 'lug_boot' (trunk size) attribute, due to fields like cost and safety being much more important.**"
   ]
  },
  {
   "attachments": {},
   "cell_type": "markdown",
   "metadata": {},
   "source": [
    "## Part 2"
   ]
  },
  {
   "attachments": {},
   "cell_type": "markdown",
   "metadata": {},
   "source": [
    "Use Python to write the following functions, without using any functions with the same purpose\n",
    "in sklearn, pandas, numpy, or any other library (though you may want to use these libraries to\n",
    "check your answers):"
   ]
  },
  {
   "attachments": {},
   "cell_type": "markdown",
   "metadata": {},
   "source": [
    "A function that will compute the mean of a numerical, multidimensional data set\n",
    "input as a 2-dimensional numpy array"
   ]
  },
  {
   "cell_type": "code",
   "execution_count": 169,
   "metadata": {},
   "outputs": [],
   "source": [
    "# Input needs to be a 2d numpy array\n",
    "def get_vector_mean(arr):\n",
    "    return arr.sum(axis=0) / arr.shape[0]"
   ]
  },
  {
   "attachments": {},
   "cell_type": "markdown",
   "metadata": {},
   "source": [
    "A function that will compute the sample covariance between two attributes that are\n",
    "input as one-dimensional numpy vectors"
   ]
  },
  {
   "cell_type": "code",
   "execution_count": 118,
   "metadata": {},
   "outputs": [
    {
     "data": {
      "text/plain": [
       "array([0.09670396, 0.16844559])"
      ]
     },
     "execution_count": 118,
     "metadata": {},
     "output_type": "execute_result"
    }
   ],
   "source": [
    "def get_cov(attr_1, attr_2):\n",
    "    attr_1_mean = float(sum(attr_1)) / len(attr_1) \n",
    "    attr_2_mean = float(sum(attr_2)) / len(attr_2) \n",
    "    sum_of = 0\n",
    "    for i in range(len(attr_1)):\n",
    "        sum_of += (float(attr_1[i]) - attr_1_mean) * (float(attr_2[i]) - attr_2_mean)\n",
    "    sum_of /= len(attr_1) - 1\n",
    "    return sum_of\n",
    "\n",
    "def get_var(arr):\n",
    "    return np.apply_along_axis(lambda x: get_cov(x, x), 0, arr)"
   ]
  },
  {
   "attachments": {},
   "cell_type": "markdown",
   "metadata": {},
   "source": [
    "A function that will compute the correlation between two attributes that are input as\n",
    "two numpy vectors."
   ]
  },
  {
   "cell_type": "code",
   "execution_count": 9,
   "metadata": {},
   "outputs": [],
   "source": [
    "def get_corr(attr_1, attr_2):\n",
    "    attr_1_mean = float(sum(attr_1)) / len(attr_1) \n",
    "    attr_2_mean = float(sum(attr_2)) / len(attr_2)\n",
    "    # find standard deviation\n",
    "    attr_1_dev = 0\n",
    "    attr_2_dev = 0\n",
    "    for i in range(len(attr_1)):\n",
    "        attr_1_dev += (attr_1[i] - attr_1_mean)**2\n",
    "        attr_2_dev += (attr_2[i] - attr_2_mean)**2\n",
    "    attr_1_dev = math.sqrt(attr_1_dev / len(attr_1))\n",
    "    attr_2_dev = math.sqrt(attr_2_dev / len(attr_2))\n",
    "\n",
    "    # standardize values\n",
    "    for i in range(len(attr_1)):\n",
    "        attr_1[i] = (attr_1[i] - attr_1_mean) / attr_1_dev\n",
    "        attr_2[i] = (attr_2[i] - attr_2_mean) / attr_2_dev\n",
    "   \n",
    "    num = 0\n",
    "    den_x = 0\n",
    "    den_y = 0\n",
    "    # calculate numerator and denominators\n",
    "    for i in range(len(attr_1)):\n",
    "        num += (float(attr_1[i]) - attr_1_mean) * (float(attr_2[i]) - attr_2_mean)\n",
    "        den_x += (float(attr_1[i]) - attr_1_mean)**2\n",
    "        den_y += (float(attr_2[i]) - attr_2_mean)**2\n",
    "    # calculate full denominator\n",
    "    den = den_x * den_y\n",
    "    return num / den"
   ]
  },
  {
   "attachments": {},
   "cell_type": "markdown",
   "metadata": {},
   "source": [
    "A function that will normalize the attributes in a two-dimensional numpy array using\n",
    "range normalization."
   ]
  },
  {
   "cell_type": "code",
   "execution_count": 92,
   "metadata": {},
   "outputs": [],
   "source": [
    "def get_range_norm(arr):\n",
    "    max_ = arr.max(0)\n",
    "    min_ = arr.min(0)\n",
    "    return (arr - min_) / (max_ - min_)"
   ]
  },
  {
   "attachments": {},
   "cell_type": "markdown",
   "metadata": {},
   "source": [
    "A function that will normalize the attributes in a two-dimensional numpy array using\n",
    "standard normalization."
   ]
  },
  {
   "cell_type": "code",
   "execution_count": 165,
   "metadata": {},
   "outputs": [],
   "source": [
    "# standard normalization is the z-score normalization\n",
    "# https://en.wikipedia.org/wiki/Normalization_(statistics)#Examples\n",
    "# https://en.wikipedia.org/wiki/Standard_score\n",
    "def get_standard_norm(arr):\n",
    "    mu = get_vector_mean(arr)\n",
    "    sigma = np.sqrt(get_var(arr))\n",
    "    return (arr - mu) / sigma"
   ]
  },
  {
   "attachments": {},
   "cell_type": "markdown",
   "metadata": {},
   "source": [
    "A function that will compute the covariance matrix of a data set.\n"
   ]
  },
  {
   "cell_type": "code",
   "execution_count": 18,
   "metadata": {},
   "outputs": [],
   "source": [
    "def get_cov_matrix(df):\n",
    "    return np.stack([np.array([get_cov(df[attr1], df[attr2]) for attr2 in df]) for attr1 in df])"
   ]
  },
  {
   "attachments": {},
   "cell_type": "markdown",
   "metadata": {},
   "source": [
    "A function that will label-encode a two-dimensional categorical data array that is\n",
    "passed in as input."
   ]
  },
  {
   "cell_type": "code",
   "execution_count": 13,
   "metadata": {},
   "outputs": [],
   "source": [
    "def label_encode(attr):\n",
    "    attr = list(attr)\n",
    "    key_list = set(attr)\n",
    "    keys = {}\n",
    "    count = 0\n",
    "    for key in key_list:\n",
    "        keys[key] = count\n",
    "        count+=1\n",
    "    for i, val in enumerate(attr):\n",
    "        attr[i] = keys[val]\n",
    "    return np.array(attr)"
   ]
  },
  {
   "attachments": {},
   "cell_type": "markdown",
   "metadata": {},
   "source": [
    "## Part 3"
   ]
  },
  {
   "attachments": {},
   "cell_type": "markdown",
   "metadata": {},
   "source": [
    "## Questions to Answer:"
   ]
  },
  {
   "cell_type": "code",
   "execution_count": 14,
   "metadata": {},
   "outputs": [
    {
     "data": {
      "text/html": [
       "<div>\n",
       "<style scoped>\n",
       "    .dataframe tbody tr th:only-of-type {\n",
       "        vertical-align: middle;\n",
       "    }\n",
       "\n",
       "    .dataframe tbody tr th {\n",
       "        vertical-align: top;\n",
       "    }\n",
       "\n",
       "    .dataframe thead th {\n",
       "        text-align: right;\n",
       "    }\n",
       "</style>\n",
       "<table border=\"1\" class=\"dataframe\">\n",
       "  <thead>\n",
       "    <tr style=\"text-align: right;\">\n",
       "      <th></th>\n",
       "      <th>buying</th>\n",
       "      <th>maint</th>\n",
       "      <th>doors</th>\n",
       "      <th>persons</th>\n",
       "      <th>lug_boot</th>\n",
       "      <th>safety</th>\n",
       "      <th>class</th>\n",
       "    </tr>\n",
       "  </thead>\n",
       "  <tbody>\n",
       "    <tr>\n",
       "      <th>0</th>\n",
       "      <td>1</td>\n",
       "      <td>1</td>\n",
       "      <td>2</td>\n",
       "      <td>1</td>\n",
       "      <td>1</td>\n",
       "      <td>1</td>\n",
       "      <td>1</td>\n",
       "    </tr>\n",
       "    <tr>\n",
       "      <th>1</th>\n",
       "      <td>1</td>\n",
       "      <td>1</td>\n",
       "      <td>2</td>\n",
       "      <td>1</td>\n",
       "      <td>1</td>\n",
       "      <td>2</td>\n",
       "      <td>1</td>\n",
       "    </tr>\n",
       "    <tr>\n",
       "      <th>2</th>\n",
       "      <td>1</td>\n",
       "      <td>1</td>\n",
       "      <td>2</td>\n",
       "      <td>1</td>\n",
       "      <td>2</td>\n",
       "      <td>0</td>\n",
       "      <td>1</td>\n",
       "    </tr>\n",
       "    <tr>\n",
       "      <th>3</th>\n",
       "      <td>1</td>\n",
       "      <td>1</td>\n",
       "      <td>2</td>\n",
       "      <td>1</td>\n",
       "      <td>2</td>\n",
       "      <td>1</td>\n",
       "      <td>1</td>\n",
       "    </tr>\n",
       "    <tr>\n",
       "      <th>4</th>\n",
       "      <td>1</td>\n",
       "      <td>1</td>\n",
       "      <td>2</td>\n",
       "      <td>1</td>\n",
<<<<<<< HEAD
       "      <td>2</td>\n",
       "      <td>2</td>\n",
=======
       "      <td>2</td>\n",
       "      <td>2</td>\n",
>>>>>>> fdfc6bbea63a9d269cfac11b88241b7175d33010
       "      <td>1</td>\n",
       "    </tr>\n",
       "  </tbody>\n",
       "</table>\n",
       "</div>"
      ],
      "text/plain": [
       "   buying  maint  doors  persons  lug_boot  safety  class\n",
       "0       1      1      2        1         1       1      1\n",
       "1       1      1      2        1         1       2      1\n",
       "2       1      1      2        1         2       0      1\n",
       "3       1      1      2        1         2       1      1\n",
       "4       1      1      2        1         2       2      1"
      ]
     },
     "execution_count": 14,
     "metadata": {},
     "output_type": "execute_result"
    }
   ],
   "source": [
    "df_orig = pd.read_csv('car.data')\n",
    "df_orig.columns = ['buying', 'maint', 'doors', 'persons', 'lug_boot', 'safety', 'class']\n",
    "\n",
    "# label encode everything\n",
    "df_orig['buying'] = label_encode(df_orig['buying'])\n",
    "df_orig['maint'] = label_encode(df_orig['maint'])\n",
    "df_orig['doors'] = label_encode(df_orig['doors'])\n",
    "df_orig['persons'] = label_encode(df_orig['persons'])\n",
    "df_orig['lug_boot'] = label_encode(df_orig['lug_boot'])\n",
    "df_orig['safety'] = label_encode(df_orig['safety'])\n",
    "df_orig['class'] = label_encode(df_orig['class'])\n",
    "df_orig.head()"
   ]
  },
  {
   "attachments": {},
   "cell_type": "markdown",
   "metadata": {},
   "source": [
    "What is the multivariate mean of the numerical data matrix (where categorical data\n",
    "have been converted to numerical values)?"
   ]
  },
  {
   "cell_type": "code",
   "execution_count": 170,
   "metadata": {},
   "outputs": [
    {
     "data": {
      "text/plain": [
       "array([1.50028952, 1.50028952, 1.49971048, 1.        , 1.        ,\n",
       "       1.00057904, 1.25767226])"
      ]
     },
     "execution_count": 170,
     "metadata": {},
     "output_type": "execute_result"
    }
   ],
   "source": [
    "df_copy = df_orig.copy()\n",
    "get_vector_mean(df_copy.to_numpy())"
   ]
  },
  {
   "attachments": {},
   "cell_type": "markdown",
   "metadata": {},
   "source": [
    "What is the covariance matrix of the numerical data matrix (where categorical data\n",
    "have been converted to numerical values)?"
   ]
  },
  {
   "cell_type": "code",
   "execution_count": 19,
   "metadata": {},
   "outputs": [
    {
     "data": {
      "text/plain": [
       "array([[ 1.25130351e+00, -1.44927439e-04,  1.44927439e-04,\n",
       "        -7.71881593e-19,  2.57293864e-19, -2.89854878e-04,\n",
       "         9.48503121e-03],\n",
       "       [-1.44927439e-04,  1.25130351e+00,  1.44927439e-04,\n",
       "        -3.85940797e-18,  2.57293864e-19, -2.89854878e-04,\n",
       "         4.94618562e-02],\n",
       "       [ 1.44927439e-04,  1.44927439e-04,  1.25130351e+00,\n",
       "        -2.57293864e-19, -2.57293864e-19,  2.89854878e-04,\n",
       "        -7.16753411e-03],\n",
       "       [-7.71881593e-19, -3.85940797e-18, -2.57293864e-19,\n",
       "         6.67439166e-01,  0.00000000e+00,  0.00000000e+00,\n",
       "         5.79374276e-04],\n",
       "       [ 2.57293864e-19,  2.57293864e-19, -2.57293864e-19,\n",
       "         0.00000000e+00,  6.67439166e-01,  0.00000000e+00,\n",
       "        -2.25955968e-02],\n",
       "       [-2.89854878e-04, -2.89854878e-04,  2.89854878e-04,\n",
       "         0.00000000e+00,  0.00000000e+00,  6.66859456e-01,\n",
       "         1.75980491e-01],\n",
       "       [ 9.48503121e-03,  4.94618562e-02, -7.16753411e-03,\n",
       "         5.79374276e-04, -2.25955968e-02,  1.75980491e-01,\n",
       "         3.46660395e-01]])"
      ]
     },
     "execution_count": 19,
     "metadata": {},
     "output_type": "execute_result"
    }
   ],
   "source": [
    "df_copy2 = df_orig.copy()\n",
    "get_cov_matrix(df_copy2)"
   ]
  },
  {
   "attachments": {},
   "cell_type": "markdown",
   "metadata": {},
   "source": [
    "Choose 5 pairs of attributes that you think could be related. Create scatter plots of\n",
    "all 5 pairs and include these in your report, along with a description and analysis that\n",
    "summarizes why these pairs of attributes might be related, and how the scatter plots do or\n",
    "do not support this intuition."
   ]
  },
  {
   "cell_type": "code",
   "execution_count": null,
   "metadata": {},
   "outputs": [],
   "source": []
  },
  {
   "attachments": {},
   "cell_type": "markdown",
   "metadata": {},
   "source": [
    "Which range-normalized numerical attributes have the greatest sample covariance?"
   ]
  },
  {
   "cell_type": "code",
   "execution_count": 172,
   "metadata": {},
   "outputs": [
    {
     "data": {
      "text/plain": [
       "('safety', 'class')"
      ]
     },
     "execution_count": 172,
     "metadata": {},
     "output_type": "execute_result"
    }
   ],
   "source": [
    "df_range_normalized = pd.DataFrame(get_range_norm(df_orig.to_numpy()), columns=df_orig.columns)\n",
    "covar_matrix = get_cov_matrix(df_range_normalized)\n",
    "\n",
    "# set diagonals to -inf so we only get max of off-diagonals\n",
    "np.fill_diagonal(covar_matrix, -math.inf)\n",
    "\n",
    "# take the flat index to the array,\n",
    "# get the indicies for each attribute,\n",
    "# then return the labels for each attribute\n",
    "covar_flat_idx = covar_matrix.argmax()\n",
    "covar_shape_idx = np.unravel_index(covar_flat_idx, df_range_normalized.shape)\n",
    "[covar_label1, covar_label2] = [df_range_normalized.columns[i] for i in covar_shape_idx]\n",
    "covar_label1, covar_label2"
   ]
  },
  {
   "attachments": {},
   "cell_type": "markdown",
   "metadata": {},
   "source": [
    "What is their sample covariance? Create a scatter plot of these range-normalized attributes."
   ]
  },
  {
   "cell_type": "code",
   "execution_count": 173,
   "metadata": {},
   "outputs": [
    {
     "data": {
      "text/plain": [
       "0.02933008185940108"
      ]
     },
     "execution_count": 173,
     "metadata": {},
     "output_type": "execute_result"
    }
   ],
   "source": [
    "covar_matrix[covar_shape_idx]"
   ]
  },
  {
   "cell_type": "code",
   "execution_count": 175,
   "metadata": {},
   "outputs": [
    {
     "data": {
      "text/plain": [
       "<matplotlib.collections.PathCollection at 0x219674bf4c0>"
      ]
     },
     "execution_count": 175,
     "metadata": {},
     "output_type": "execute_result"
    },
    {
     "data": {
      "image/png": "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",
      "text/plain": [
       "<Figure size 640x480 with 1 Axes>"
      ]
     },
     "metadata": {},
     "output_type": "display_data"
    }
   ],
   "source": [
    "x = df_range_normalized[covar_label1]\n",
    "y = df_range_normalized[covar_label2]\n",
    "plt.xlabel(covar_label1)\n",
    "plt.ylabel(covar_label2)\n",
    "plt.scatter(x, y)"
   ]
  },
  {
   "attachments": {},
   "cell_type": "markdown",
   "metadata": {},
   "source": [
    "Which Z-score-normalized numerical attributes have the greatest correlation? What\n",
    "is their correlation? Create a scatter plot of these Z-score-normalized attributes."
   ]
  },
  {
   "cell_type": "code",
   "execution_count": 208,
<<<<<<< HEAD
   "metadata": {},
   "outputs": [
    {
     "data": {
      "text/plain": [
       "('safety', 'class')"
      ]
     },
     "execution_count": 208,
     "metadata": {},
     "output_type": "execute_result"
    }
   ],
   "source": [
    "df_standard_normalized = pd.DataFrame(data=get_standard_norm(df_orig.to_numpy()), columns=df_orig.columns)\n",
    "df_standard_normalized.to_numpy()\n",
    "\n",
    "# same thing as the covariance, just with correlation\n",
    "# correlation matrix is just covariance matrix of the z-score-normalized data\n",
    "corr_matrix = get_cov_matrix(df_standard_normalized)\n",
    "np.fill_diagonal(corr_matrix, -math.inf)\n",
    "\n",
    "corr_flat_idx = corr_matrix.argmax()\n",
    "corr_shape_idx = np.unravel_index(corr_flat_idx, df_standard_normalized.shape)\n",
    "[corr_label1, corr_label2] = [df_standard_normalized.columns[i] for i in corr_shape_idx]\n",
    "\n",
    "corr_label1, corr_label2"
   ]
  },
  {
   "cell_type": "code",
   "execution_count": 212,
=======
>>>>>>> fdfc6bbea63a9d269cfac11b88241b7175d33010
   "metadata": {},
   "outputs": [
    {
     "data": {
      "text/plain": [
<<<<<<< HEAD
       "<matplotlib.collections.PathCollection at 0x21967292f20>"
      ]
     },
     "execution_count": 212,
=======
       "('safety', 'class')"
      ]
     },
     "execution_count": 208,
>>>>>>> fdfc6bbea63a9d269cfac11b88241b7175d33010
     "metadata": {},
     "output_type": "execute_result"
    },
    {
     "data": {
      "image/png": "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",
      "text/plain": [
       "<Figure size 640x480 with 1 Axes>"
      ]
     },
     "metadata": {},
     "output_type": "display_data"
    }
   ],
   "source": [
<<<<<<< HEAD
=======
    "df_standard_normalized = pd.DataFrame(data=get_standard_norm(df_orig.to_numpy()), columns=df_orig.columns)\n",
    "df_standard_normalized.to_numpy()\n",
    "\n",
    "# same thing as the covariance, just with correlation\n",
    "# correlation matrix is just covariance matrix of the z-score-normalized data\n",
    "corr_matrix = get_cov_matrix(df_standard_normalized)\n",
    "np.fill_diagonal(corr_matrix, -math.inf)\n",
    "\n",
    "corr_flat_idx = corr_matrix.argmax()\n",
    "corr_shape_idx = np.unravel_index(corr_flat_idx, df_standard_normalized.shape)\n",
    "[corr_label1, corr_label2] = [df_standard_normalized.columns[i] for i in corr_shape_idx]\n",
    "\n",
    "corr_label1, corr_label2"
   ]
  },
  {
   "cell_type": "code",
   "execution_count": 212,
   "metadata": {},
   "outputs": [
    {
     "data": {
      "text/plain": [
       "<matplotlib.collections.PathCollection at 0x21967292f20>"
      ]
     },
     "execution_count": 212,
     "metadata": {},
     "output_type": "execute_result"
    },
    {
     "data": {
      "image/png": "iVBORw0KGgoAAAANSUhEUgAAAjUAAAGwCAYAAABRgJRuAAAAOXRFWHRTb2Z0d2FyZQBNYXRwbG90bGliIHZlcnNpb24zLjcuMCwgaHR0cHM6Ly9tYXRwbG90bGliLm9yZy88F64QAAAACXBIWXMAAA9hAAAPYQGoP6dpAAAiG0lEQVR4nO3de3BTdf7/8VegNhRL0wVKS5dyk4srIigIW5wv12K5eKnusIgOlMpNF9dlcUC67oLurFMW0VUZFNxRqo53FHFUZLHLRQEBuSigiECBCpSrJAW1xfbz+2PH/ERuaUhzcj59PmYyQ5KT9N1Dkzzn5OTEY4wxAgAAcLk6Tg8AAAAQCUQNAACwAlEDAACsQNQAAAArEDUAAMAKRA0AALACUQMAAKwQ5/QA0VRVVaX9+/erQYMG8ng8To8DAABCYIxRWVmZ0tPTVafOubfH1Kqo2b9/vzIyMpweAwAAhKGkpETNmjU75/W1KmoaNGgg6X8rJSkpyeFpAABAKAKBgDIyMoKv4+dSq6Lmp7eckpKSiBoAAFzmQruOsKMwAACwAlEDAACsQNQAAAArEDUAAMAKRA0AALACUQMAAKxA1AAAACsQNQAAwAquiZqnn35aV111VfDAeZmZmVq0aJHTYwEAgBjhmiMKN2vWTNOnT1fbtm1ljNHzzz+vm2++WRs3blSHDh2cHg8AgFprwktL9fbm74LnczrW1+N39In6HB5jjIn6T42Qhg0b6pFHHtGoUaPOen15ebnKy8uD53/67gi/38/XJAAAEAEtp7x3zut2Tx8ckZ8RCATk8/ku+Prtmreffq6yslKvvvqqTp48qczMzHMuV1BQIJ/PFzzxDd0AAETO+YImlOsjzVVRs3nzZiUmJsrr9equu+7SggULdMUVV5xz+fz8fPn9/uCppKQkitMCAGCvCS8tjehykeCafWokqX379tq0aZP8fr/mz5+v3NxcLV++/Jxh4/V65fV6ozwlAAD2+/k+NBda7vGaHSXIVVETHx+vNm3aSJK6dOmidevW6YknntDcuXMdngwAADjNVW8//VJVVdVpOwIDAIDayzVbavLz8zVw4EA1b95cZWVlevnll7Vs2TItXrzY6dEAAKh1cjrWD+ktqJyO9aMwzf+4ZkvNoUOHNGLECLVv3179+vXTunXrtHjxYvXv39/p0QAAqHVCPQ5NNI9X4+rj1FRXqJ9zBwAAoeE4NQAAwAq7pw8+4y2mnI71IxY01cGWGgAAENPYUgMAAGoVogYAAFiBqAEAAFYgagAAgBWIGgAAYAWiBgAAWIGoAQAAViBqAACAFYgaAABgBaIGAABYgagBAABWIGoAAIAViBoAAGAFogYAAFiBqAEAAFYgagAAgBWIGgAAYAWiBgAAWIGoAQAAViBqAACAFYgaAABgBaIGAABYgagBAABWIGoAAIAViBoAAGAFogYAAFiBqAEAAFYgagAAgBWIGgAAYAWiBgAAWIGoAQAAViBqAACAFYgaAABgBaIGAABYgagBAABWIGoAAIAViBoAAGAFogYAAFiBqAEAAFYgagAAgBWIGgAAYAWiBgAAWIGoAQAAViBqAACAFYgaAABgBaIGAABYgagBAABWIGoAAIAViBoAAGAFogYAAFiBqAEAAFYgagAAgBWIGgAAYAXXRE1BQYGuvfZaNWjQQE2aNFFOTo6++uorp8cCAAAxwjVRs3z5co0fP16ffPKJlixZolOnTun666/XyZMnnR4NAADEAI8xxjg9RDgOHz6sJk2aaPny5erZs+dZlykvL1d5eXnwfCAQUEZGhvx+v5KSkqI1KgAAuAiBQEA+n++Cr9+u2VLzS36/X5LUsGHDcy5TUFAgn88XPGVkZERrPAAAEGWu3FJTVVWlm266ScePH9fHH398zuXYUgMAgPuFuqUmLoozRcz48eO1ZcuW8waNJHm9Xnm93ihNBQAAnOS6qLnnnnv07rvvasWKFWrWrJnT4wAAgBjhmqgxxuiPf/yjFixYoGXLlqlVq1ZOjwQAAGKIa6Jm/Pjxevnll7Vw4UI1aNBApaWlkiSfz6eEhASHpwMAAE5zzY7CHo/nrJfPmzdPI0eODOk+Qt3RCAAAxA7rdhR2SXsBAACHuPY4NQAAAD9H1AAAACsQNQAAwApEDQAAsAJRAwAArEDUAAAAKxA1AADACkQNAACwAlEDAACsQNQAAAArEDUAAMAKRA0AALACUQMAAKxA1AAAACsQNQAAwApEDQAAsAJRAwAArEDUAAAAKxA1AADACkQNAACwAlEDAACsQNQAAAArEDUAAMAKRA0AALACUQMAAKxA1AAAACsQNQAAwApEDQAAsAJRAwAArEDUAAAAKxA1AADACkQNAACwAlEDAACsQNQAAAArEDUAAMAKRA0AALBCnNMDAMDFajnlvTMu2z19sAOTALVTrDwG2VIDwNXO9mR6vssBRFYsPQaJGgCudaEnTcIGqFmx9hgkagC4UqhPloQNUDNi8TFI1AAAACsQNQAAwApEDQAAsAJRAwAArEDUAHClUI+BwfFqgJoRi49BogaAa13oyZKgAWpWrD0GiRoArnauJ02CBoiOWHoMeowxJuo/1SGBQEA+n09+v19JSUlOjwMAAEIQ6us3W2oAAIAViBoAAGAFogYAAFiBqAEAAFYgagAAgBWIGgAAYAVXRc2KFSt04403Kj09XR6PR2+//bbTIwEAgBjhqqg5efKkOnXqpNmzZzs9CgAAiDFxTg9QHQMHDtTAgQOdHgMAAMQgV0VNdZWXl6u8vDx4PhAIODgNAACoSa56+6m6CgoK5PP5gqeMjAynRwIAADXE6qjJz8+X3+8PnkpKSpweCQAA1BCr337yer3yer1OjwEAAKLA6i01AACg9nDVlpoTJ05ox44dwfPFxcXatGmTGjZsqObNmzs4GQAAcJqroubTTz9Vnz59gucnTpwoScrNzVVhYaFDUwEAgFjgqqjp3bu3jDFOjwEAAGIQ+9QAAAArEDUAAMAKRA0AALACUQMAAKxA1AAAACsQNQAAwApEDQAAsAJRAwAArEDUAAAAKxA1AADACkQNAACwAlEDAACsQNQAAAArEDUAAMAKRA0AALACUQMAAKxA1AAAACsQNQAAwAphRc2GDRu0efPm4PmFCxcqJydHf/nLX1RRURGx4QAAAEIVVtSMGzdO27dvlyTt2rVLt912m+rXr6833nhDkydPjuiAAAAAoQgrarZv367OnTtLkt544w317NlTL7/8sgoLC/Xmm29Gcj4AAICQhBU1xhhVVVVJkj788EMNGjRIkpSRkaEjR45EbjoAAIAQhRU1Xbt21T/+8Q+9+OKLWr58uQYPHixJKi4uVmpqakQHBAAACEVYUfP4449rw4YNuueee/TAAw+oTZs2kqT58+erR48eER0QAAAgFB5jjInUnf3www+qW7euLrnkkkjdZUQFAgH5fD75/X4lJSU5PQ4AAAhBqK/fYW2pKSkp0TfffBM8v3btWk2YMEEvvPBCzAYNAACwW1hRc/vtt2vp0qWSpNLSUvXv319r167VAw88oL///e8RHRAAACAUYUXNli1b1K1bN0nS66+/riuvvFKrVq3SSy+9pMLCwkjOBwAAEJKwoubUqVPyer2S/veR7ptuukmSdPnll+vAgQORmw4AACBEYUVNhw4dNGfOHH300UdasmSJBgwYIEnav3+/GjVqFNEBAQAAQhFW1Pzzn//U3Llz1bt3bw0bNkydOnWSJL3zzjvBt6UAAACiKeyPdFdWVioQCOhXv/pV8LLdu3erfv36atKkScQGjCQ+0g0AgPuE+vodF+4PqFu37mlBI0ktW7YM9+4AAAAuSthRM3/+fL3++uvau3evKioqTrtuw4YNFz0YAABAdYS1T82TTz6pvLw8paamauPGjerWrZsaNWqkXbt2aeDAgZGeEQAA4ILCipqnnnpKzzzzjGbNmqX4+HhNnjxZS5Ys0b333iu/3x/pGQEAAC4orKjZu3dv8IsrExISVFZWJkkaPny4XnnllchNBwAAEKKwoiYtLU3Hjh2TJDVv3lyffPKJJKm4uFgR/H5MAACAkIUVNX379tU777wjScrLy9Of//xn9e/fX0OHDtUtt9wS0QEBAABCEdZxaqqqqlRVVaW4uP99eOrVV1/VqlWr1LZtW40bN07x8fERHzQSOE4NAADuE+rrd9gH33MjogYAAPeJ+MH3Pv/885B/+FVXXRXysgAAAJEQctR07txZHo/ngjsCezweVVZWXvRgAAAA1RFy1BQXF9fkHAAAABcl5Khp0aJF8N8FBQVKTU3VnXfeedoyzz33nA4fPqz7778/chMCAACEIKyPdM+dO1eXX375GZd36NBBc+bMueihAAAAqiusqCktLVXTpk3PuDwlJUUHDhy46KEAAACqK6yoycjI0MqVK8+4fOXKlUpPT7/ooQAAAKor5H1qfm7MmDGaMGGCTp06pb59+0qSioqKNHnyZN13330RHRAAACAUYUXNpEmTdPToUf3hD39QRUWFJKlevXq6//77lZ+fH9EBAQAAQnFRRxQ+ceKEvvzySyUkJKht27byer2RnC3iOKIwAADuE/EjCp9NYmKirr322ou5CwAAgIgIa0dhAACAWEPUAAAAKxA1AADACq6LmtmzZ6tly5aqV6+eunfvrrVr1zo9EgAAiAGuiprXXntNEydO1LRp07RhwwZ16tRJ2dnZOnTokNOjAQAAh7kqah577DGNGTNGeXl5uuKKKzRnzhzVr19fzz33nNOjAQAAh7kmaioqKrR+/XplZWUFL6tTp46ysrK0evXqs96mvLxcgUDgtBMAALCTa6LmyJEjqqysVGpq6mmXp6amqrS09Ky3KSgokM/nC54yMjKiMSoAAHCAa6ImHPn5+fL7/cFTSUmJ0yMBAIAaclFHFI6mxo0bq27dujp48OBplx88eFBpaWlnvY3X6435r24AAACR4ZotNfHx8erSpYuKioqCl1VVVamoqEiZmZkOTgYAAGKBa7bUSNLEiROVm5urrl27qlu3bnr88cd18uRJ5eXlOT0aAABwmKuiZujQoTp8+LCmTp2q0tJSde7cWR988MEZOw8DAIDax2OMMU4PES2hfnU5AACIHaG+frtmnxoAAIDzIWoAAIAViBoAAGAFogYAAFiBqAEAAFYgagAAgBWIGgAAYAWiBgAAWIGoAQAAViBqAACAFYgaAABgBaIGAABYgagBAABWIGoAAIAViBoAAGAFogYAAFiBqAEAAFaIc3oAt2s55b0zLts9fbADkwC1F49DwFmx8hhkS81FONt/4vkuBxB5PA4BZ8XSY5CoCdOF/rN4QgVqHo9DwFmx9hgkasIQ6n8ST6hAzeFxCDgrFh+DRA0AALACUQMAAKxA1AAAACsQNQAAwApETRhC/ew9x8kAag6PQ8BZsfgYJGrCdKH/JJ5IgZrH4xBwVqw9Bomai3Cu/yyeSIHo4XEIOCuWHoMeY4yJ+k91SCAQkM/nk9/vV1JSktPjAACAEIT6+s2WGgAAYAWiBgAAWIGoAQAAViBqAACAFYgaAABgBaIGAABYgagBAABWIGoAAIAViBoAAGAFogYAAFiBqAEAAFYgagAAgBWIGgAAYAWiBgAAWIGoAQAAViBqAACAFYgaAABgBaIGAABYgagBAABWIGoAAIAViBoAAGAFogYAAFiBqAEAAFYgagAAgBWIGgAAYAWiBgAAWME1UfPwww+rR48eql+/vpKTk50eBwAAxBjXRE1FRYWGDBmiu+++2+lRAABADIpzeoBQPfTQQ5KkwsJCZwcBAAAxyTVRE47y8nKVl5cHzwcCAQenAQAANck1bz+Fo6CgQD6fL3jKyMhweiQAAFBDHI2aKVOmyOPxnPe0bdu2sO8/Pz9ffr8/eCopKYng9AAAIJY4+vbTfffdp5EjR553mdatW4d9/16vV16vN+zbAwAA93A0alJSUpSSkuLkCAAAwBKu2VF47969OnbsmPbu3avKykpt2rRJktSmTRslJiY6OxwAAHCca6Jm6tSpev7554Pnr776aknS0qVL1bt3b4emAgAAscJjjDFODxEtgUBAPp9Pfr9fSUlJTo8DAABCEOrrt9Uf6QYAALUHUQMAAKxA1AAAACsQNQAAwApEDQAAsAJRAwAArEDUAAAAKxA1AADACkQNAACwAlEDAACsQNQAAAArEDUAAMAKRA0AALACUQMAAKxA1AAAACsQNQAAwApEDQAAsAJRAwAArEDUAAAAKxA1AADACkQNAACwAlEDAACsQNQAAAArEDUAAMAKRA0AALACUQMAAKxA1AAAACsQNQAAwApEDQAAsAJRAwAArEDUAAAAKxA1AADACkQNAACwAlEDAACsQNQAAAArEDUAAMAKRA0AALACUQMAAKxA1AAAACsQNQAAwApEDQAAsAJRAwAArEDUAAAAKxA1AADACkQNAACwAlEDAACsQNQAAAArEDUAAMAKRA0AALACUQMAAKxA1AAAACsQNQAAwApEDQAAsAJRAwAArEDUAAAAK7gianbv3q1Ro0apVatWSkhI0GWXXaZp06apoqLC6dEAAECMiHN6gFBs27ZNVVVVmjt3rtq0aaMtW7ZozJgxOnnypGbOnOn0eAAAIAZ4jDHG6SHC8cgjj+jpp5/Wrl27Qr5NIBCQz+eT3+9XUlJSDU4HAAAiJdTXb1dsqTkbv9+vhg0bnneZ8vJylZeXB88HAoGaHgsAADjEFfvU/NKOHTs0a9YsjRs37rzLFRQUyOfzBU8ZGRlRmhAAAESbo1EzZcoUeTye8562bdt22m327dunAQMGaMiQIRozZsx57z8/P19+vz94KikpqclfBwAAOMjRfWoOHz6so0ePnneZ1q1bKz4+XpK0f/9+9e7dW7/97W9VWFioOnWq12TsUwMAgPu4Yp+alJQUpaSkhLTsvn371KdPH3Xp0kXz5s2rdtAAAAC7uWJH4X379ql3795q0aKFZs6cqcOHDwevS0tLc3AyALGgcOlXenDxjuD5B7PbaGSf9g5OBNQu73yyV/e+vTl4/smcjrrpt82jPocrPtJdWFiovLy8s15XnfF5+wmwT8sp753zut3TB0dxEqB2isZjMNTXb1e8hzNy5EgZY856AlB7ne/JNJTrAVycWHsMuiJqAOCXCpd+FdHlAFTPO5/sjehykUDUAHCln+9DE4nlAFTPz/ehicRykUDUAAAAKxA1AADACkQNAFd6MLtNRJcDUD1P5nSM6HKRQNQAcKVQj0PD8WqAmhHqcWiiebwaogaAa13oGBgcpwaoWbH2GCRqALja7umDz3iL6cHsNgQNECW7pw8+4y2mJ3M6OvIYdMURhSOFIwoDAOA+Vh1RGAAA4EKIGgAAYAWiBgAAWIGoAQAAViBqAACAFYgaAABgBaIGAABYgagBAABWIGoAAIAV4pweIJp+OnhyIBBweBIAABCqn163L/QlCLUqasrKyiRJGRkZDk8CAACqq6ysTD6f75zX16rvfqqqqtL+/fvVoEEDeTwep8eJukAgoIyMDJWUlPDdV1HA+o4u1nd0sb6jq7avb2OMysrKlJ6erjp1zr3nTK3aUlOnTh01a9bM6TEcl5SUVCsfFE5hfUcX6zu6WN/RVZvX9/m20PyEHYUBAIAViBoAAGAFoqYW8Xq9mjZtmrxer9Oj1Aqs7+hifUcX6zu6WN+hqVU7CgMAAHuxpQYAAFiBqAEAAFYgagAAgBWIGgAAYAWixmIPP/ywevToofr16ys5OTmk2xhjNHXqVDVt2lQJCQnKysrS119/XbODWuTYsWO64447lJSUpOTkZI0aNUonTpw472169+4tj8dz2umuu+6K0sTuMnv2bLVs2VL16tVT9+7dtXbt2vMu/8Ybb+jyyy9XvXr11LFjR73//vtRmtQO1VnfhYWFZ/wd16tXL4rTutuKFSt04403Kj09XR6PR2+//fYFb7Ns2TJdc8018nq9atOmjQoLC2t8zlhH1FisoqJCQ4YM0d133x3ybWbMmKEnn3xSc+bM0Zo1a3TppZcqOztbP/zwQw1Oao877rhDW7du1ZIlS/Tuu+9qxYoVGjt27AVvN2bMGB04cCB4mjFjRhSmdZfXXntNEydO1LRp07RhwwZ16tRJ2dnZOnTo0FmXX7VqlYYNG6ZRo0Zp48aNysnJUU5OjrZs2RLlyd2puutb+t/Rbn/+d7xnz54oTuxuJ0+eVKdOnTR79uyQli8uLtbgwYPVp08fbdq0SRMmTNDo0aO1ePHiGp40xhlYb968ecbn811wuaqqKpOWlmYeeeSR4GXHjx83Xq/XvPLKKzU4oR2++OILI8msW7cueNmiRYuMx+Mx+/btO+ftevXqZf70pz9FYUJ369atmxk/fnzwfGVlpUlPTzcFBQVnXf73v/+9GTx48GmXde/e3YwbN65G57RFddd3qM8zuDBJZsGCBeddZvLkyaZDhw6nXTZ06FCTnZ1dg5PFPrbUIKi4uFilpaXKysoKXubz+dS9e3etXr3awcncYfXq1UpOTlbXrl2Dl2VlZalOnTpas2bNeW/70ksvqXHjxrryyiuVn5+v7777rqbHdZWKigqtX7/+tL/NOnXqKCsr65x/m6tXrz5teUnKzs7mbzkE4axvSTpx4oRatGihjIwM3Xzzzdq6dWs0xq2V+Ps+u1r1hZY4v9LSUklSamrqaZenpqYGr8O5lZaWqkmTJqddFhcXp4YNG553/d1+++1q0aKF0tPT9fnnn+v+++/XV199pbfeequmR3aNI0eOqLKy8qx/m9u2bTvrbUpLS/lbDlM467t9+/Z67rnndNVVV8nv92vmzJnq0aOHtm7dyhcJ14Bz/X0HAgF9//33SkhIcGgyZ7GlxmWmTJlyxs54vzyd60kH4anpdT527FhlZ2erY8eOuuOOO/TCCy9owYIF2rlzZwR/C6BmZWZmasSIEercubN69eqlt956SykpKZo7d67To6EWYUuNy9x3330aOXLkeZdp3bp1WPedlpYmSTp48KCaNm0avPzgwYPq3LlzWPdpg1DXeVpa2hk7Uf744486duxYcN2Gonv37pKkHTt26LLLLqv2vDZq3Lix6tatq4MHD552+cGDB8+5btPS0qq1PP6/cNb3L11yySW6+uqrtWPHjpoYsdY71993UlJSrd1KIxE1rpOSkqKUlJQaue9WrVopLS1NRUVFwYgJBAJas2ZNtT5BZZtQ13lmZqaOHz+u9evXq0uXLpKk//73v6qqqgqGSig2bdokSaeFZW0XHx+vLl26qKioSDk5OZKkqqoqFRUV6Z577jnrbTIzM1VUVKQJEyYEL1uyZIkyMzOjMLG7hbO+f6myslKbN2/WoEGDanDS2iszM/OMQxTw9y0+/WSzPXv2mI0bN5qHHnrIJCYmmo0bN5qNGzeasrKy4DLt27c3b731VvD89OnTTXJyslm4cKH5/PPPzc0332xatWplvv/+eyd+BdcZMGCAufrqq82aNWvMxx9/bNq2bWuGDRsWvP6bb74x7du3N2vWrDHGGLNjxw7z97//3Xz66aemuLjYLFy40LRu3dr07NnTqV8hZr366qvG6/WawsJC88UXX5ixY8ea5ORkU1paaowxZvjw4WbKlCnB5VeuXGni4uLMzJkzzZdffmmmTZtmLrnkErN582anfgVXqe76fuihh8zixYvNzp07zfr1681tt91m6tWrZ7Zu3erUr+AqZWVlwedoSeaxxx4zGzduNHv27DHGGDNlyhQzfPjw4PK7du0y9evXN5MmTTJffvmlmT17tqlbt6754IMPnPoVYgJRY7Hc3Fwj6YzT0qVLg8tIMvPmzQuer6qqMn/7299Mamqq8Xq9pl+/fuarr76K/vAudfToUTNs2DCTmJhokpKSTF5e3mkRWVxcfNr/wd69e03Pnj1Nw4YNjdfrNW3atDGTJk0yfr/fod8gts2aNcs0b97cxMfHm27duplPPvkkeF2vXr1Mbm7uacu//vrrpl27diY+Pt506NDBvPfee1Ge2N2qs74nTJgQXDY1NdUMGjTIbNiwwYGp3Wnp0qVnfb7+aR3n5uaaXr16nXGbzp07m/j4eNO6devTnstrK48xxjiyiQgAACCC+PQTAACwAlEDAACsQNQAAAArEDUAAMAKRA0AALACUQMAAKxA1AAAACsQNQAAwApEDQBXKi0tVf/+/XXppZcqOTnZ6XEAxACiBoAr/etf/9KBAwe0adMmbd++PaTbPPjgg7X6G+cB2/Et3QBcaefOnerSpYvatm3r9CgAYgRbagA4Zv78+erYsaMSEhLUqFEjZWVl6eTJk1q3bp369++vxo0by+fzqVevXtqwYUPwdi1bttSbb76pF154QR6PRyNHjpQkHT9+XKNHj1ZKSoqSkpLUt29fffbZZ5KkwsJCPfTQQ/rss8/k8Xjk8XhUWFioO++8UzfccMNpc506dUpNmjTRs88+G7V1AeDisaUGgCMOHDigYcOGacaMGbrllltUVlamjz76SMYYlZWVKTc3V7NmzZIxRo8++qgGDRqkr7/+Wg0aNNC6des0YsQIJSUl6YknnlBCQoIkaciQIUpISNCiRYvk8/k0d+5c9evXT9u3b9fQoUO1ZcsWffDBB/rwww8lST6fT+3atVPPnj114MABNW3aVJL07rvv6rvvvtPQoUMdWz8Aqo+oAeCIAwcO6Mcff9Stt96qFi1aSJI6duwoSerbt+9pyz7zzDNKTk7W8uXLdcMNNyglJUVer1cJCQlKS0uTJH388cdau3atDh06JK/XK0maOXOm3n77bc2fP19jx45VYmKi4uLigreRpB49eqh9+/Z68cUXNXnyZEnSvHnzNGTIECUmJtb4egAQObz9BMARnTp1Ur9+/dSxY0cNGTJE//73v/Xtt99Kkg4ePKgxY8aobdu28vl8SkpK0okTJ7R3795z3t9nn32mEydOqFGjRkpMTAyeiouLtXPnzvPOMnr0aM2bNy/4sxctWqQ777wzcr8sgKhgSw0AR9StW1dLlizRqlWr9J///EezZs3SAw88oDVr1ujuu+/W0aNH9cQTT6hFixbyer3KzMxURUXFOe/vxIkTatq0qZYtW3bGdRf6yPeIESM0ZcoUrV69WqtWrVKrVq30f//3fxf5GwKINqIGgGM8Ho+uu+46XXfddZo6dapatGihBQsWaOXKlXrqqac0aNAgSVJJSYmOHDly3vu65pprVFpaqri4OLVs2fKsy8THx6uysvKMyxs1aqScnBzNmzdPq1evVl5e3kX/bgCij6gB4Ig1a9aoqKhI119/vZo0aaI1a9bo8OHD+s1vfqO2bdvqxRdfVNeuXRUIBDRp0qTgzsDnkpWVpczMTOXk5GjGjBlq166d9u/fr/fee0+33HKLunbtqpYtW6q4uFibNm1Ss2bN1KBBg+D+N6NHj9YNN9ygyspK5ebmRmMVAIgw9qkB4IikpCStWLFCgwYNUrt27fTXv/5Vjz76qAYOHKhnn31W3377ra655hoNHz5c9957r5o0aXLe+/N4PHr//ffVs2dP5eXlqV27drrtttu0Z88epaamSpJ+97vfacCAAerTp49SUlL0yiuvBG+flZWlpk2bKjs7W+np6TX6uwOoGR5jjHF6CABw2okTJ/TrX/9a8+bN06233ur0OADCwNtPAGq1qqoqHTlyRI8++qiSk5N10003OT0SgDARNQBqtb1796pVq1Zq1qyZCgsLFRfH0yLgVrz9BAAArMCOwgAAwApEDQAAsAJRAwAArEDUAAAAKxA1AADACkQNAACwAlEDAACsQNQAAAAr/D89dOAy7yvYJQAAAABJRU5ErkJggg==",
      "text/plain": [
       "<Figure size 640x480 with 1 Axes>"
      ]
     },
     "metadata": {},
     "output_type": "display_data"
    }
   ],
   "source": [
>>>>>>> fdfc6bbea63a9d269cfac11b88241b7175d33010
    "x = df_standard_normalized[corr_label1]\n",
    "y = df_standard_normalized[corr_label2]\n",
    "plt.xlabel(corr_label1)\n",
    "plt.ylabel(corr_label2)\n",
    "plt.scatter(x, y)"
   ]
  },
  {
   "attachments": {},
   "cell_type": "markdown",
   "metadata": {},
   "source": [
    "Which Z-score-normalized numerical attributes have the smallest correlation? What\n",
    "is their correlation? Create a scatter plot of these Z-score-normalized attributes."
   ]
  },
  {
   "cell_type": "code",
   "execution_count": 210,
   "metadata": {},
   "outputs": [
    {
     "data": {
      "text/plain": [
       "('lug_boot', 'class')"
      ]
     },
     "execution_count": 210,
     "metadata": {},
     "output_type": "execute_result"
    }
   ],
   "source": [
    "np.fill_diagonal(corr_matrix, math.inf)\n",
    "corr_flat_idx = corr_matrix.argmin()\n",
    "corr_shape_idx = np.unravel_index(corr_flat_idx, df_standard_normalized.shape)\n",
    "[corr_label3, corr_label4] = [df_standard_normalized.columns[i] for i in corr_shape_idx]\n",
    "\n",
    "(corr_label3, corr_label4)"
   ]
  },
  {
   "cell_type": "code",
   "execution_count": 211,
   "metadata": {},
   "outputs": [
    {
     "data": {
      "text/plain": [
       "<matplotlib.collections.PathCollection at 0x219675617b0>"
      ]
     },
     "execution_count": 211,
     "metadata": {},
     "output_type": "execute_result"
    },
    {
     "data": {
      "image/png": "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",
      "text/plain": [
       "<Figure size 640x480 with 1 Axes>"
      ]
     },
     "metadata": {},
     "output_type": "display_data"
    }
   ],
   "source": [
    "x = df_standard_normalized[corr_label3]\n",
    "y = df_standard_normalized[corr_label4]\n",
    "plt.xlabel(corr_label3)\n",
    "plt.ylabel(corr_label4)\n",
    "plt.scatter(x, y)"
   ]
  },
  {
   "attachments": {},
   "cell_type": "markdown",
   "metadata": {},
   "source": [
    "How many pairs of features have correlation greater than or equal to 0.5?\n"
   ]
  },
  {
   "cell_type": "code",
   "execution_count": null,
   "metadata": {},
   "outputs": [],
   "source": [
    "df_copy = df_orig.copy()\n",
    "columns = df_copy.columns\n",
    "column_check = {x : False for x in columns}\n",
    "for column_1 in columns:\n",
    "    for column_2 in columns:\n",
    "        if column_1 == column_2 or not column_check[column_2]:\n",
    "            continue\n",
    "        # reset df because I don't understand references\n",
    "        df_copy = df_orig.copy()\n",
    "        print(f'Columns -> {column_1} - {column_2} -> correlation: {get_corr(df_copy[column_1], df_copy[column_2])}')\n",
    "    column_check[column_1] = True"
   ]
  },
  {
   "attachments": {},
   "cell_type": "markdown",
   "metadata": {},
   "source": [
    "**No pairs of features have a correlation of >= 0.5.**"
   ]
  },
  {
   "attachments": {},
   "cell_type": "markdown",
   "metadata": {},
   "source": [
    "How many pairs of features have negative sample covariance?\n"
   ]
  },
  {
   "cell_type": "code",
   "execution_count": null,
   "metadata": {},
   "outputs": [],
   "source": []
  },
  {
   "attachments": {},
   "cell_type": "markdown",
   "metadata": {},
   "source": [
    "What is the total variance of the data?\n"
   ]
  },
  {
   "cell_type": "code",
   "execution_count": null,
   "metadata": {},
   "outputs": [],
<<<<<<< HEAD
   "source": [
    "def get_total_var(arr) :\n",
    "    mean = get_vector_mean(arr)\n",
    "    for i in arr:\n",
    "        arr[i] = arr[i] - mean\n",
    "    sum_sqdiff = arr.sum()\n",
    "    var = sum_sqdiff / arr.size\n",
    "    return var\n",
    "df_copy3 = df_orig.copy()\n",
    "get_total_var(df_copy3.to_numpy())"
   ]
=======
   "source": []
>>>>>>> fdfc6bbea63a9d269cfac11b88241b7175d33010
  },
  {
   "attachments": {},
   "cell_type": "markdown",
   "metadata": {},
   "source": [
    "What is the total variance of the data, restricted to the five features that have the\n",
    "greatest sample variance?"
   ]
  },
  {
   "cell_type": "code",
   "execution_count": null,
   "metadata": {},
   "outputs": [],
   "source": []
  }
 ],
 "metadata": {
  "kernelspec": {
   "display_name": "Python 3",
   "language": "python",
   "name": "python3"
  },
  "language_info": {
   "codemirror_mode": {
    "name": "ipython",
    "version": 3
   },
   "file_extension": ".py",
   "mimetype": "text/x-python",
   "name": "python",
   "nbconvert_exporter": "python",
   "pygments_lexer": "ipython3",
   "version": "3.10.0"
  },
  "orig_nbformat": 4,
  "vscode": {
   "interpreter": {
    "hash": "369f2c481f4da34e4445cda3fffd2e751bd1c4d706f27375911949ba6bb62e1c"
   }
  }
 },
 "nbformat": 4,
 "nbformat_minor": 2
}
