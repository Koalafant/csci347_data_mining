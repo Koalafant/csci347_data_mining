{
 "cells": [
  {
   "attachments": {},
   "cell_type": "markdown",
   "metadata": {},
   "source": [
    "# Project 1 - EDA \n",
    "#### Mason Reyher, Jamison Cleveland, Kade Aldrich, Mitch Froelich, Ryley Ourada"
   ]
  },
  {
   "attachments": {},
   "cell_type": "markdown",
   "metadata": {},
   "source": [
    "Initial setup:"
   ]
  },
  {
   "cell_type": "code",
   "execution_count": 1,
   "metadata": {},
   "outputs": [
    {
     "name": "stdout",
     "output_type": "stream",
     "text": [
      "Note: you may need to restart the kernel to use updated packages.\n",
      "Note: you may need to restart the kernel to use updated packages.\n",
      "Note: you may need to restart the kernel to use updated packages.\n",
      "Note: you may need to restart the kernel to use updated packages.\n"
     ]
    }
   ],
   "source": [
    "%pip install --upgrade pip -q\n",
    "%pip install pandas -q\n",
    "%pip install numpy -q \n",
    "%pip install matplotlib -q"
   ]
  },
  {
   "cell_type": "code",
   "execution_count": 2,
   "metadata": {},
   "outputs": [],
   "source": [
    "import pandas as pd\n",
    "import numpy as np\n",
    "import matplotlib.pyplot as plt\n",
    "import math"
   ]
  },
  {
   "attachments": {},
   "cell_type": "markdown",
   "metadata": {},
   "source": [
    "## Part 1"
   ]
  },
  {
   "attachments": {},
   "cell_type": "markdown",
   "metadata": {},
   "source": [
    "### In a well-written paragraph, answer the following questions about the data:"
   ]
  },
  {
   "attachments": {},
   "cell_type": "markdown",
   "metadata": {},
   "source": [
    "What was the data used for? </br>\n",
    "**This data was used in a paper about multi-attribute decision making (Neural nets, trees, etc.) (8th Intl Workshop on Expert\n",
    "   Systems and their Applications, Avignon, France. pages 59-78, 1988).** </br>\n",
    "**It was also used for, \"the evaluation\n",
    "   of HINT (Hierarchy INduction Tool)\" (B. Zupan, M. Bohanec, I. Bratko, J. Demsar: Machine learning by\n",
    "   function decomposition. ICML-97, Nashville, TN. 1997).**"
   ]
  },
  {
   "attachments": {},
   "cell_type": "markdown",
   "metadata": {},
   "source": [
    "Who (or what organization) uploaded the data?</br>\n",
    "**Marko Bohanec and Blaz Zupan, June 1997**\n"
   ]
  },
  {
   "attachments": {},
   "cell_type": "markdown",
   "metadata": {},
   "source": [
    "How many attributes and how many entities are represented in the data? </br>\n",
    "**6 Attributes officially; for our purposes, 7, because of the 'class' attribute.** </br>\n",
    "**The dataset has 1728 instances.**\n"
   ]
  },
  {
   "attachments": {},
   "cell_type": "markdown",
   "metadata": {},
   "source": [
    "How many numerical attributes? </br>\n",
    "**2**\n"
   ]
  },
  {
   "attachments": {},
   "cell_type": "markdown",
   "metadata": {},
   "source": [
    "How many categorical attributes? </br>\n",
    "**5**\n"
   ]
  },
  {
   "attachments": {},
   "cell_type": "markdown",
   "metadata": {},
   "source": [
    "Would you suggest that each categorical attribute be label-encoded or one-hot-\n",
    "encoded? Why? </br>\n",
    "**All categorical variables should be label encoded, not one-hot encoded. All variables are ranked via quality - for example, the price of a car 'buying' field is given a v-high, high, med, or low value. This is perfect for label-encoding. All other categorical variables assume this pattern as well.**"
   ]
  },
  {
   "attachments": {},
   "cell_type": "markdown",
   "metadata": {},
   "source": [
    "Are there missing values in the data? If so, what proportion of the data is missing\n",
    "overall? What proportion of data is missing per attribute (you may use a plot or table to\n",
    "summarize this information)?\n",
    "</br>\n",
    "**There is no missing data.**"
   ]
  },
  {
   "attachments": {},
   "cell_type": "markdown",
   "metadata": {},
   "source": [
    "Why is this data set interesting to you?\n",
    "</br>\n",
    "**ANSWER HERE**\n"
   ]
  },
  {
   "attachments": {},
   "cell_type": "markdown",
   "metadata": {},
   "source": [
    "Of the attributes used to describe this data, which do you think are the most\n",
    "descriptive of the data and why (before doing any data analysis) ?\n",
    "</br>\n",
    "**the 'buying' and 'safety' attributes seem to be the most important. Before doing analysis, it would be probable to assume the more safe a car is, the more it would be worth. Most attributes are fairly important for a car (maintenace costs...), so the least important is likely the 'lug_boot' (trunk size) attribute, due to fields like cost and safety being much more important.**"
   ]
  },
  {
   "attachments": {},
   "cell_type": "markdown",
   "metadata": {},
   "source": [
    "## Part 2"
   ]
  },
  {
   "attachments": {},
   "cell_type": "markdown",
   "metadata": {},
   "source": [
    "Use Python to write the following functions, without using any functions with the same purpose\n",
    "in sklearn, pandas, numpy, or any other library (though you may want to use these libraries to\n",
    "check your answers):"
   ]
  },
  {
   "attachments": {},
   "cell_type": "markdown",
   "metadata": {},
   "source": [
    "A function that will compute the mean of a numerical, multidimensional data set\n",
    "input as a 2-dimensional numpy array"
   ]
  },
  {
   "cell_type": "code",
   "execution_count": 3,
   "metadata": {},
   "outputs": [],
   "source": [
    "# Input needs to be a 2d numpy array\n",
    "def get_vector_mean(arr):\n",
    "    return arr.sum(axis=0) / arr.size"
   ]
  },
  {
   "attachments": {},
   "cell_type": "markdown",
   "metadata": {},
   "source": [
    "A function that will compute the sample covariance between two attributes that are\n",
    "input as one-dimensional numpy vectors"
   ]
  },
  {
   "cell_type": "code",
   "execution_count": 4,
   "metadata": {},
   "outputs": [],
   "source": [
    "def get_cov(attr_1, attr_2):\n",
    "    attr_1_mean = float(sum(attr_1)) / len(attr_1) \n",
    "    attr_2_mean = float(sum(attr_2)) / len(attr_2) \n",
    "    sum_of = 0\n",
    "    for i in range(len(attr_1)):\n",
    "        sum_of += (float(attr_1[i]) - attr_1_mean) * (float(attr_2[i]) - attr_2_mean)\n",
    "    sum_of /= len(attr_1) - 1\n",
    "    return sum_of"
   ]
  },
  {
   "attachments": {},
   "cell_type": "markdown",
   "metadata": {},
   "source": [
    "A function that will compute the correlation between two attributes that are input as\n",
    "two numpy vectors."
   ]
  },
  {
   "cell_type": "code",
   "execution_count": 5,
   "metadata": {},
   "outputs": [],
   "source": [
    "def get_corr(attr_1, attr_2):\n",
    "    attr_1_mean = float(sum(attr_1)) / len(attr_1) \n",
    "    attr_2_mean = float(sum(attr_2)) / len(attr_2)\n",
    "    # find standard deviation\n",
    "    attr_1_dev = 0\n",
    "    attr_2_dev = 0\n",
    "    for i in range(len(attr_1)):\n",
    "        attr_1_dev += (attr_1[i] - attr_1_mean)**2\n",
    "        attr_2_dev += (attr_2[i] - attr_2_mean)**2\n",
    "    attr_1_dev = math.sqrt(attr_1_dev / len(attr_1))\n",
    "    attr_2_dev = math.sqrt(attr_2_dev / len(attr_2))\n",
    "\n",
    "    # standardize values\n",
    "    for i in range(len(attr_1)):\n",
    "        attr_1[i] = (attr_1[i] - attr_1_mean) / attr_1_dev\n",
    "        attr_2[i] = (attr_2[i] - attr_2_mean) / attr_2_dev\n",
    "   \n",
    "    num = 0\n",
    "    den_x = 0\n",
    "    den_y = 0\n",
    "    # calculate numerator and denominators\n",
    "    for i in range(len(attr_1)):\n",
    "        num += (float(attr_1[i]) - attr_1_mean) * (float(attr_2[i]) - attr_2_mean)\n",
    "        den_x += (float(attr_1[i]) - attr_1_mean)**2\n",
    "        den_y += (float(attr_2[i]) - attr_2_mean)**2\n",
    "    # calculate full denominator\n",
    "    den = den_x * den_y\n",
    "    return num / den"
   ]
  },
  {
   "attachments": {},
   "cell_type": "markdown",
   "metadata": {},
   "source": [
    "A function that will normalize the attributes in a two-dimensional numpy array using\n",
    "range normalization."
   ]
  },
  {
   "cell_type": "code",
   "execution_count": 6,
   "metadata": {},
   "outputs": [],
   "source": [
    "\n",
    "def get_range_norm(arr):\n",
    "    max_ = arr.max()\n",
    "    min_ = arr.min()\n",
    "    return (arr - min_) / (max_ - min_)"
   ]
  },
  {
   "attachments": {},
   "cell_type": "markdown",
   "metadata": {},
   "source": [
    "A function that will normalize the attributes in a two-dimensional numpy array using\n",
    "standard normalization."
   ]
  },
  {
   "cell_type": "code",
   "execution_count": 7,
   "metadata": {},
   "outputs": [],
   "source": [
    "# standard normalization is the z-score normalization\n",
    "# https://en.wikipedia.org/wiki/Normalization_(statistics)#Examples\n",
    "# https://en.wikipedia.org/wiki/Standard_score\n",
    "def get_standard_norm(arr):\n",
    "    mu = get_vector_mean(arr).T\n",
    "    sigma = np.sqrt(np.apply_along_axis(lambda x: get_cov(x, x), 0, arr))\n",
    "    return (arr - mu) / sigma"
   ]
  },
  {
   "attachments": {},
   "cell_type": "markdown",
   "metadata": {},
   "source": [
    "A function that will compute the covariance matrix of a data set.\n"
   ]
  },
  {
   "cell_type": "code",
   "execution_count": 8,
   "metadata": {},
   "outputs": [],
   "source": [
    "def get_cov_matrix(df):\n",
    "    return np.stack([np.array([get_cov(df[attr1], df[attr2]) for attr2 in df]) for attr1 in df])"
   ]
  },
  {
   "attachments": {},
   "cell_type": "markdown",
   "metadata": {},
   "source": [
    "A function that will label-encode a two-dimensional categorical data array that is\n",
    "passed in as input."
   ]
  },
  {
   "cell_type": "code",
   "execution_count": 9,
   "metadata": {},
   "outputs": [],
   "source": [
    "def label_encode(attr):\n",
    "    attr = list(attr)\n",
    "    key_list = set(attr)\n",
    "    keys = {}\n",
    "    count = 0\n",
    "    for key in key_list:\n",
    "        keys[key] = count\n",
    "        count+=1\n",
    "    for i, val in enumerate(attr):\n",
    "        attr[i] = keys[val]\n",
    "    return np.array(attr)"
   ]
  },
  {
   "attachments": {},
   "cell_type": "markdown",
   "metadata": {},
   "source": [
    "## Part 3"
   ]
  },
  {
   "attachments": {},
   "cell_type": "markdown",
   "metadata": {},
   "source": [
    "## Questions to Answer:"
   ]
  },
  {
   "cell_type": "code",
   "execution_count": 17,
   "metadata": {},
   "outputs": [
    {
     "data": {
      "text/html": [
       "<div>\n",
       "<style scoped>\n",
       "    .dataframe tbody tr th:only-of-type {\n",
       "        vertical-align: middle;\n",
       "    }\n",
       "\n",
       "    .dataframe tbody tr th {\n",
       "        vertical-align: top;\n",
       "    }\n",
       "\n",
       "    .dataframe thead th {\n",
       "        text-align: right;\n",
       "    }\n",
       "</style>\n",
       "<table border=\"1\" class=\"dataframe\">\n",
       "  <thead>\n",
       "    <tr style=\"text-align: right;\">\n",
       "      <th></th>\n",
       "      <th>fixed acidity</th>\n",
       "      <th>volatile acidity</th>\n",
       "      <th>citric acid</th>\n",
       "      <th>residual sugar</th>\n",
       "      <th>chlorides</th>\n",
       "      <th>free sulfur dioxide</th>\n",
       "      <th>total sulfur dioxide</th>\n",
       "      <th>density</th>\n",
       "      <th>pH</th>\n",
       "      <th>sulphates</th>\n",
       "      <th>alcohol</th>\n",
       "      <th>quality</th>\n",
       "    </tr>\n",
       "  </thead>\n",
       "  <tbody>\n",
       "    <tr>\n",
       "      <th>0</th>\n",
       "      <td>9</td>\n",
       "      <td>72</td>\n",
       "      <td>0</td>\n",
       "      <td>1</td>\n",
       "      <td>96</td>\n",
       "      <td>24</td>\n",
       "      <td>61</td>\n",
       "      <td>365</td>\n",
       "      <td>3</td>\n",
       "      <td>50</td>\n",
       "      <td>4</td>\n",
       "      <td>2</td>\n",
       "    </tr>\n",
       "    <tr>\n",
       "      <th>1</th>\n",
       "      <td>9</td>\n",
       "      <td>0</td>\n",
       "      <td>72</td>\n",
       "      <td>2</td>\n",
       "      <td>97</td>\n",
       "      <td>14</td>\n",
       "      <td>48</td>\n",
       "      <td>54</td>\n",
       "      <td>1</td>\n",
       "      <td>51</td>\n",
       "      <td>4</td>\n",
       "      <td>2</td>\n",
       "    </tr>\n",
       "    <tr>\n",
       "      <th>2</th>\n",
       "      <td>10</td>\n",
       "      <td>1</td>\n",
       "      <td>1</td>\n",
       "      <td>0</td>\n",
       "      <td>35</td>\n",
       "      <td>16</td>\n",
       "      <td>54</td>\n",
       "      <td>324</td>\n",
       "      <td>2</td>\n",
       "      <td>52</td>\n",
       "      <td>4</td>\n",
       "      <td>3</td>\n",
       "    </tr>\n",
       "    <tr>\n",
       "      <th>3</th>\n",
       "      <td>8</td>\n",
       "      <td>2</td>\n",
       "      <td>0</td>\n",
       "      <td>0</td>\n",
       "      <td>108</td>\n",
       "      <td>10</td>\n",
       "      <td>28</td>\n",
       "      <td>110</td>\n",
       "      <td>4</td>\n",
       "      <td>0</td>\n",
       "      <td>7</td>\n",
       "      <td>2</td>\n",
       "    </tr>\n",
       "    <tr>\n",
       "      <th>4</th>\n",
       "      <td>8</td>\n",
       "      <td>73</td>\n",
       "      <td>0</td>\n",
       "      <td>4</td>\n",
       "      <td>35</td>\n",
       "      <td>12</td>\n",
       "      <td>34</td>\n",
       "      <td>110</td>\n",
       "      <td>4</td>\n",
       "      <td>0</td>\n",
       "      <td>7</td>\n",
       "      <td>2</td>\n",
       "    </tr>\n",
       "  </tbody>\n",
       "</table>\n",
       "</div>"
      ],
      "text/plain": [
       "   fixed acidity  volatile acidity  citric acid  residual sugar  chlorides  \\\n",
       "0              9                72            0               1         96   \n",
       "1              9                 0           72               2         97   \n",
       "2             10                 1            1               0         35   \n",
       "3              8                 2            0               0        108   \n",
       "4              8                73            0               4         35   \n",
       "\n",
       "   free sulfur dioxide  total sulfur dioxide  density  pH  sulphates  alcohol  \\\n",
       "0                   24                    61      365   3         50        4   \n",
       "1                   14                    48       54   1         51        4   \n",
       "2                   16                    54      324   2         52        4   \n",
       "3                   10                    28      110   4          0        7   \n",
       "4                   12                    34      110   4          0        7   \n",
       "\n",
       "   quality  \n",
       "0        2  \n",
       "1        2  \n",
       "2        3  \n",
       "3        2  \n",
       "4        2  "
      ]
     },
     "execution_count": 17,
     "metadata": {},
     "output_type": "execute_result"
    }
   ],
   "source": [
    "df_orig = pd.read_csv('wines_red.csv', sep=\";\")\n",
    "df_orig.columns = ['fixed acidity', 'volatile acidity', 'citric acid', 'residual sugar', 'chlorides', 'free sulfur dioxide', 'total sulfur dioxide','density', 'pH', 'sulphates', 'alcohol', 'quality']\n",
    "\n",
    "# label encode everything\n",
    "df_orig['fixed acidity'] = label_encode(df_orig['fixed acidity'])\n",
    "df_orig['volatile acidity'] = label_encode(df_orig['volatile acidity'])\n",
    "df_orig['citric acid'] = label_encode(df_orig['citric acid'])\n",
    "df_orig['residual sugar'] = label_encode(df_orig['residual sugar'])\n",
    "df_orig['chlorides'] = label_encode(df_orig['chlorides'])\n",
    "df_orig['free sulfur dioxide'] = label_encode(df_orig['free sulfur dioxide'])\n",
    "df_orig['total sulfur dioxide'] = label_encode(df_orig['total sulfur dioxide'])\n",
    "df_orig['density'] = label_encode(df_orig['density'])\n",
    "df_orig['pH'] = label_encode(df_orig['pH'])\n",
    "df_orig['sulphates'] = label_encode(df_orig['sulphates'])\n",
    "df_orig['alcohol'] = label_encode(df_orig['alcohol'])\n",
    "df_orig['quality'] = label_encode(df_orig['quality'])\n",
    "df_orig.head()"
   ]
  },
  {
   "attachments": {},
   "cell_type": "markdown",
   "metadata": {},
   "source": [
    "What is the multivariate mean of the numerical data matrix (where categorical data\n",
    "have been converted to numerical values)?"
   ]
  },
  {
   "cell_type": "code",
   "execution_count": null,
   "metadata": {},
   "outputs": [
    {
     "name": "stdout",
     "output_type": "stream",
     "text": [
      "[0.21440979 0.21440979 0.21416163 0.14277442 0.14285714 0.14285714\n",
      " 0.059641  ]\n"
     ]
    }
   ],
   "source": [
    "df_copy = df_orig.copy()\n",
    "mean = get_vector_mean(df_copy.to_numpy())\n",
    "print(mean)"
   ]
  },
  {
   "attachments": {},
   "cell_type": "markdown",
   "metadata": {},
   "source": [
    "What is the covariance matrix of the numerical data matrix (where categorical data\n",
    "have been converted to numerical values)?"
   ]
  },
  {
   "cell_type": "code",
   "execution_count": null,
   "metadata": {},
   "outputs": [
    {
     "data": {
      "text/plain": [
       "array([[ 1.25014409e+00, -1.30434695e-03,  1.30434695e-03,\n",
       "         8.69564634e-04, -2.57293864e-19,  0.00000000e+00,\n",
       "         1.99231616e-01],\n",
       "       [-1.30434695e-03,  1.25014409e+00,  1.30434695e-03,\n",
       "         8.69564634e-04, -2.57293864e-19,  0.00000000e+00,\n",
       "         1.85906008e-01],\n",
       "       [ 1.30434695e-03,  1.30434695e-03,  1.25014409e+00,\n",
       "        -8.69564634e-04,  2.57293864e-19,  0.00000000e+00,\n",
       "        -3.93243161e-02],\n",
       "       [ 8.69564634e-04,  8.69564634e-04, -8.69564634e-04,\n",
       "         6.66859456e-01,  0.00000000e+00,  0.00000000e+00,\n",
       "        -2.05435987e-01],\n",
       "       [-2.57293864e-19, -2.57293864e-19,  2.57293864e-19,\n",
       "         0.00000000e+00,  6.67439166e-01,  0.00000000e+00,\n",
       "        -2.25955968e-02],\n",
       "       [ 0.00000000e+00,  0.00000000e+00,  0.00000000e+00,\n",
       "         0.00000000e+00,  0.00000000e+00,  6.67439166e-01,\n",
       "        -7.35805330e-02],\n",
       "       [ 1.99231616e-01,  1.85906008e-01, -3.93243161e-02,\n",
       "        -2.05435987e-01, -2.25955968e-02, -7.35805330e-02,\n",
       "         5.58512105e-01]])"
      ]
     },
     "execution_count": 61,
     "metadata": {},
     "output_type": "execute_result"
    }
   ],
   "source": [
    "df_copy2 = df_orig.copy()\n",
    "get_cov_matrix(df_copy2)"
   ]
  },
  {
   "attachments": {},
   "cell_type": "markdown",
   "metadata": {},
   "source": [
    "Choose 5 pairs of attributes that you think could be related. Create scatter plots of\n",
    "all 5 pairs and include these in your report, along with a description and analysis that\n",
    "summarizes why these pairs of attributes might be related, and how the scatter plots do or\n",
    "do not support this intuition."
   ]
  },
  {
   "cell_type": "code",
   "execution_count": null,
   "metadata": {},
   "outputs": [],
   "source": []
  },
  {
   "attachments": {},
   "cell_type": "markdown",
   "metadata": {},
   "source": [
    "Which range-normalized numerical attributes have the greatest sample covariance?"
   ]
  },
  {
   "cell_type": "code",
   "execution_count": null,
   "metadata": {},
   "outputs": [
    {
     "data": {
      "text/plain": [
       "array([[0.        , 0.        , 1.        , ..., 0.33333333, 0.66666667,\n",
       "        0.        ],\n",
       "       [0.        , 0.        , 1.        , ..., 0.33333333, 0.        ,\n",
       "        0.        ],\n",
       "       [0.        , 0.        , 1.        , ..., 0.66666667, 0.33333333,\n",
       "        0.        ],\n",
       "       ...,\n",
       "       [0.66666667, 0.66666667, 0.        , ..., 0.        , 0.33333333,\n",
       "        0.        ],\n",
       "       [0.66666667, 0.66666667, 0.        , ..., 0.        , 0.66666667,\n",
       "        1.        ],\n",
       "       [0.66666667, 0.66666667, 0.        , ..., 0.        , 0.        ,\n",
       "        0.66666667]])"
      ]
     },
     "execution_count": 62,
     "metadata": {},
     "output_type": "execute_result"
    }
   ],
   "source": [
    "d_matrix = df_orig.to_numpy()\n",
    "get_range_norm(d_matrix)"
   ]
  },
  {
   "attachments": {},
   "cell_type": "markdown",
   "metadata": {},
   "source": [
    "What is their sample covariance? Create a scatter plot of these range-normalized attributes."
   ]
  },
  {
   "cell_type": "code",
   "execution_count": null,
   "metadata": {},
   "outputs": [],
   "source": []
  },
  {
   "attachments": {},
   "cell_type": "markdown",
   "metadata": {},
   "source": [
    "Which Z-score-normalized numerical attributes have the greatest correlation? What\n",
    "is their correlation? Create a scatter plot of these Z-score-normalized attributes."
   ]
  },
  {
   "cell_type": "code",
   "execution_count": null,
   "metadata": {},
   "outputs": [
    {
     "data": {
      "text/plain": [
       "array([[-0.1917629 , -0.1917629 ,  2.49158598, ...,  1.04917363,\n",
       "         2.27320953, -0.07980472],\n",
       "       [-0.1917629 , -0.1917629 ,  2.49158598, ...,  1.04917363,\n",
       "        -0.17486227, -0.07980472],\n",
       "       [-0.1917629 , -0.1917629 ,  2.49158598, ...,  2.27320953,\n",
       "         1.04917363, -0.07980472],\n",
       "       ...,\n",
       "       [ 1.59698839,  1.59698839, -0.19154095, ..., -0.17486227,\n",
       "         1.04917363, -0.07980472],\n",
       "       [ 1.59698839,  1.59698839, -0.19154095, ..., -0.17486227,\n",
       "         2.27320953,  3.9344503 ],\n",
       "       [ 1.59698839,  1.59698839, -0.19154095, ..., -0.17486227,\n",
       "        -0.17486227,  2.59636529]])"
      ]
     },
     "execution_count": 63,
     "metadata": {},
     "output_type": "execute_result"
    }
   ],
   "source": [
    "d_matrix = df_orig.to_numpy()\n",
    "get_standard_norm(d_matrix)"
   ]
  },
  {
   "attachments": {},
   "cell_type": "markdown",
   "metadata": {},
   "source": [
    "Which Z-score-normalized numerical attributes have the smallest correlation? What\n",
    "is their correlation? Create a scatter plot of these Z-score-normalized attributes."
   ]
  },
  {
   "cell_type": "code",
   "execution_count": null,
   "metadata": {},
   "outputs": [],
   "source": []
  },
  {
   "attachments": {},
   "cell_type": "markdown",
   "metadata": {},
   "source": [
    "How many pairs of features have correlation greater than or equal to 0.5?\n"
   ]
  },
  {
   "cell_type": "code",
   "execution_count": null,
   "metadata": {},
   "outputs": [
    {
     "name": "stderr",
     "output_type": "stream",
     "text": [
      "C:\\Users\\Owner\\AppData\\Local\\Temp\\ipykernel_56848\\3397426948.py:16: SettingWithCopyWarning: \n",
      "A value is trying to be set on a copy of a slice from a DataFrame\n",
      "\n",
      "See the caveats in the documentation: https://pandas.pydata.org/pandas-docs/stable/user_guide/indexing.html#returning-a-view-versus-a-copy\n",
      "  attr_2[i] = (attr_2[i] - attr_2_mean) / attr_2_dev\n",
      "C:\\Users\\Owner\\AppData\\Local\\Temp\\ipykernel_56848\\3397426948.py:15: SettingWithCopyWarning: \n",
      "A value is trying to be set on a copy of a slice from a DataFrame\n",
      "\n",
      "See the caveats in the documentation: https://pandas.pydata.org/pandas-docs/stable/user_guide/indexing.html#returning-a-view-versus-a-copy\n",
      "  attr_1[i] = (attr_1[i] - attr_1_mean) / attr_1_dev\n"
     ]
    },
    {
     "name": "stdout",
     "output_type": "stream",
     "text": [
      "Columns -> maint - buying -> correlation: 0.0001232334898328454\n",
      "Columns -> doors - buying -> correlation: 0.00012340272003412485\n",
      "Columns -> doors - maint -> correlation: 0.0001234027200341299\n",
      "Columns -> persons - buying -> correlation: 0.00013367936957312462\n",
      "Columns -> persons - maint -> correlation: 0.0001336793695731284\n",
      "Columns -> persons - doors -> correlation: 0.00013356911005642304\n",
      "Columns -> lug_boot - buying -> correlation: 0.00013359457119492248\n",
      "Columns -> lug_boot - maint -> correlation: 0.00013359457119492603\n",
      "Columns -> lug_boot - doors -> correlation: 0.0001336540893814914\n",
      "Columns -> lug_boot - persons -> correlation: 0.0001447596746178213\n",
      "Columns -> safety - buying -> correlation: 0.00013359457119492248\n",
      "Columns -> safety - maint -> correlation: 0.00013359457119492603\n",
      "Columns -> safety - doors -> correlation: 0.0001336540893814914\n",
      "Columns -> safety - persons -> correlation: 0.0001447596746178213\n",
      "Columns -> safety - lug_boot -> correlation: 0.00014475969889982243\n",
      "Columns -> class - buying -> correlation: 0.0001311374608609253\n",
      "Columns -> class - maint -> correlation: 0.0001287198326716221\n",
      "Columns -> class - doors -> correlation: 8.788778990423436e-05\n",
      "Columns -> class - persons -> correlation: 1.9888846195890065e-05\n",
      "Columns -> class - lug_boot -> correlation: 9.380595025717219e-05\n",
      "Columns -> class - safety -> correlation: 7.321767057135382e-05\n"
     ]
    }
   ],
   "source": [
    "df_copy = df_orig.copy()\n",
    "columns = df_copy.columns\n",
    "column_check = {x : False for x in columns}\n",
    "for column_1 in columns:\n",
    "    for column_2 in columns:\n",
    "        if column_1 == column_2 or not column_check[column_2]:\n",
    "            continue\n",
    "        # reset df because I don't understand references\n",
    "        df_copy = df_orig.copy()\n",
    "        print(f'Columns -> {column_1} - {column_2} -> correlation: {get_corr(df_copy[column_1], df_copy[column_2])}')\n",
    "    column_check[column_1] = True"
   ]
  },
  {
   "attachments": {},
   "cell_type": "markdown",
   "metadata": {},
   "source": [
    "**No pairs of features have a correlation of >= 0.5.**"
   ]
  },
  {
   "attachments": {},
   "cell_type": "markdown",
   "metadata": {},
   "source": [
    "How many pairs of features have negative sample covariance?\n"
   ]
  },
  {
   "cell_type": "code",
   "execution_count": null,
   "metadata": {},
   "outputs": [],
   "source": []
  },
  {
   "attachments": {},
   "cell_type": "markdown",
   "metadata": {},
   "source": [
    "What is the total variance of the data?\n"
   ]
  },
  {
   "cell_type": "code",
   "execution_count": null,
   "metadata": {},
   "outputs": [
    {
     "name": "stdout",
     "output_type": "stream",
     "text": [
      "1.0395557267140796\n"
     ]
    },
    {
     "data": {
      "text/plain": [
       "1.1285466126230457"
      ]
     },
     "execution_count": 99,
     "metadata": {},
     "output_type": "execute_result"
    }
   ],
   "source": [
    "def get_total_var(arr) :\n",
    "    mean = get_vector_mean(arr)\n",
    "    for i in arr:\n",
    "        arr[i] = arr[i] - mean\n",
    "    sum_sqdiff = arr.sum()\n",
    "    var = sum_sqdiff / arr.size\n",
    "    return var\n",
    "df_copy3 = df_orig.copy()\n",
    "get_total_var(df_copy3.to_numpy())"
   ]
  },
  {
   "attachments": {},
   "cell_type": "markdown",
   "metadata": {},
   "source": [
    "What is the total variance of the data, restricted to the five features that have the\n",
    "greatest sample variance?"
   ]
  },
  {
   "cell_type": "code",
   "execution_count": null,
   "metadata": {},
   "outputs": [],
   "source": []
  }
 ],
 "metadata": {
  "kernelspec": {
   "display_name": "Python 3",
   "language": "python",
   "name": "python3"
  },
  "language_info": {
   "codemirror_mode": {
    "name": "ipython",
    "version": 3
   },
   "file_extension": ".py",
   "mimetype": "text/x-python",
   "name": "python",
   "nbconvert_exporter": "python",
   "pygments_lexer": "ipython3",
   "version": "3.11.2"
  },
  "orig_nbformat": 4,
  "vscode": {
   "interpreter": {
    "hash": "5238573367df39f7286bb46f9ff5f08f63a01a80960060ce41e3c79b190280fa"
   }
  }
 },
 "nbformat": 4,
 "nbformat_minor": 2
}
