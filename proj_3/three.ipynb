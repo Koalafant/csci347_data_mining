{
 "cells": [
  {
   "attachments": {},
   "cell_type": "markdown",
   "metadata": {},
   "source": [
    "## CSCI 347 - Project 3 </br>\n",
    "#### Mason Reyher, Colby Roberts, Charlie Weitzenberg, Erin Scheunemann, Megan Fehres"
   ]
  },
  {
   "attachments": {},
   "cell_type": "markdown",
   "metadata": {},
   "source": [
    "Choose a data set that you are interested in from the UCI Machine Learning Repository that\n",
    "has at least 5 numerical attributes, and that you believe may contain clusters. Only use the\n",
    "numerical attributes for this project. Note: if you are planning to complete the extra credit\n",
    "portion of this project, you will need to use a data set that has class labels (ground truth\n",
    "cluster labels), i.e., a classification data set, in order to compute the accuracy of the clustering.\n",
    "If you would like to use a data set from a different source, please discuss this with me.\n"
   ]
  },
  {
   "attachments": {},
   "cell_type": "markdown",
   "metadata": {},
   "source": [
    "### Part 1: Think about the data\n",
    "Answer the following questions:"
   ]
  },
  {
   "attachments": {},
   "cell_type": "markdown",
   "metadata": {},
   "source": [
    "Tetuan city power consumption dataset was chosen. </br>\n",
    "52417 rows, 9 attributes. 8 numerical attributes."
   ]
  },
  {
   "attachments": {},
   "cell_type": "markdown",
   "metadata": {},
   "source": [
    "1. [1 point] Why are you interested in this data set?\n"
   ]
  },
  {
   "attachments": {},
   "cell_type": "markdown",
   "metadata": {},
   "source": [
    "I know next to nothing about Tetouan, a city in Morocco. However, being in the northern tip of Africa (and a maritime climate), I presume the climate of this area is dynamic to say the least. I imagine there will be clusters based on the temperatures and certain city zones."
   ]
  },
  {
   "attachments": {},
   "cell_type": "markdown",
   "metadata": {},
   "source": [
    "2. [1 point] How many numerical attributes and categorical attributes are there in the data set?\n"
   ]
  },
  {
   "attachments": {},
   "cell_type": "markdown",
   "metadata": {},
   "source": [
    "There are 8 numerical attributes and 1 categorical (datetime)."
   ]
  },
  {
   "attachments": {},
   "cell_type": "markdown",
   "metadata": {},
   "source": [
    "3. [1 point] Are there any missing values? If there are missing values, how are you planning to\n",
    "handle these (will all data instances with missing values be removed? Will all attributes with\n",
    "missing values be removed? Will missing values be imputed? If so, how?)\n"
   ]
  },
  {
   "attachments": {},
   "cell_type": "markdown",
   "metadata": {},
   "source": [
    "None."
   ]
  },
  {
   "attachments": {},
   "cell_type": "markdown",
   "metadata": {},
   "source": [
    "4. Before doing any analysis, answer the following questions:\n"
   ]
  },
  {
   "attachments": {},
   "cell_type": "markdown",
   "metadata": {},
   "source": [
    "1. [1 point] Why do you expect clusters to be present in the data?\n"
   ]
  },
  {
   "attachments": {},
   "cell_type": "markdown",
   "metadata": {},
   "source": [
    "When temperature is drastically high, many in the city will turn on their air conditioning (high power usage). There should be a postive correlation and cluster (using DBSCAN, not kmeans) as temperature increases, with power usage. It will be interesting to see if the city zone will cluster separately -- a rich district versus a poor district. However, due soley to temperature and energy usage, there will be some sort of cluster(s)."
   ]
  },
  {
   "attachments": {},
   "cell_type": "markdown",
   "metadata": {},
   "source": [
    "2. [1 point] Why might finding clusters in this data set be helpful (how might this help us\n",
    "understand or analyze the data)?"
   ]
  },
  {
   "attachments": {},
   "cell_type": "markdown",
   "metadata": {},
   "source": [
    "If there are clusters present between different city zones, we can use that to determine what district of the city is using tons of power. In an effort to save power, or an initiative to reduce power usage (plant trees on the tops of buildings to absorb heat in the high usage areas) we can use clustering to gain insight in how to reduce power usage."
   ]
  },
  {
   "attachments": {},
   "cell_type": "markdown",
   "metadata": {},
   "source": [
    "3. [1 point] How many clusters do you expect to see in the data? Provide a range of values\n",
    "to answer this question. For example, 2 to 4. Why do you expect a number of clusters\n",
    "in this range?"
   ]
  },
  {
   "attachments": {},
   "cell_type": "markdown",
   "metadata": {},
   "source": [
    "Between 2 and 3. Either there will be no cluster between city districts, and there will only be clusters correlating to power usage and temperature; or there will be three clusters between power usage and city districts. If the latter clusters are true, there will be much more useful data. "
   ]
  },
  {
   "attachments": {},
   "cell_type": "markdown",
   "metadata": {},
   "source": [
    "4. [1 point] Do you expect that the clusters will be of similar size (i.e., cluster 1 is about the\n",
    "same size as cluster 2, is about the same size as cluster 3, etc..)? Why or why not?\n"
   ]
  },
  {
   "attachments": {},
   "cell_type": "markdown",
   "metadata": {},
   "source": [
    "They probably won't be. The city districts are probably not the same size. More people live in one area but are poorer, and less people live in another and have more money. For example, in a richer district with less people, they'll use more power for air conditioning in the summer. In a poorer district, there will be more people, but cannot afford to use air conditioning as much, therefore power usage will decrease (this could be the complete opposite too). "
   ]
  },
  {
   "attachments": {},
   "cell_type": "markdown",
   "metadata": {},
   "source": [
    "### Part 2: Write functions for graph analysis in Python\n",
    "Write the following functions in Python. You may use scikit-learn or other packages to check\n",
    "the correctness of your implementation, but you may not use any existing clustering algorithm\n",
    "implementation in your code."
   ]
  },
  {
   "attachments": {},
   "cell_type": "markdown",
   "metadata": {},
   "source": [
    "5. [10 points] A function that implements the k-means clustering algorithm. The function\n",
    "should take a data matrix, a number of clusters k, and a convergence parameter epsilon,\n",
    "as input, and return the representatives (means) as well as the clusters found using k-\n",
    "means. If the distance is the same between a point and more than one representative\n",
    "(mean), then assign the point to the mean corresponding to the cluster with the lowest\n",
    "index."
   ]
  },
  {
   "cell_type": "code",
   "execution_count": null,
   "metadata": {},
   "outputs": [],
   "source": [
    "def k_means(df, k, e):\n",
    "    pass"
   ]
  },
  {
   "attachments": {},
   "cell_type": "markdown",
   "metadata": {},
   "source": [
    "6. [10 points] A function that implements the DBSCAN clustering algorithm. The function\n",
    "should take a data matrix and the parameters minpts and epsilon as input, and return the\n",
    "clusters found using DBSCAN, where each data point is labeled as either a noise point, a\n",
    "border point, or a core point."
   ]
  },
  {
   "cell_type": "code",
   "execution_count": null,
   "metadata": {},
   "outputs": [],
   "source": [
    "def dbscan(df, min, e):\n",
    "    pass"
   ]
  },
  {
   "attachments": {},
   "cell_type": "markdown",
   "metadata": {},
   "source": [
    "7. Extra credit (5 points): A function that computes the precision of a clustering. The function\n",
    "should take a list of true cluster labels and a list of the cluster labels returned by some\n",
    "clustering algorithm, and return the precision of the clustering.\n"
   ]
  },
  {
   "cell_type": "code",
   "execution_count": null,
   "metadata": {},
   "outputs": [],
   "source": [
    "def cluster_prec(true_labels, labels):\n",
    "    pass"
   ]
  },
  {
   "attachments": {},
   "cell_type": "markdown",
   "metadata": {},
   "source": [
    "### Part 3: Analyze your data\n",
    "Report the following, using tables or figures as appropriate. You may use scikit-learn’s\n",
    "implementation of k-means and DBSCAN, but you are encouraged to first try using your own\n",
    "implementations on real-world data."
   ]
  },
  {
   "attachments": {},
   "cell_type": "markdown",
   "metadata": {},
   "source": [
    "8. [4 points] Use sklearn’s PCA implementation to linearly transform the data to two\n",
    "dimensions. Create a scatter plot of the data, with the x-axis corresponding to coordinates\n",
    "of the data along the first principal component, and the y-axis corresponding to\n",
    "coordinates of the data along the second principal component. Does it look like there are\n",
    "clusters in these two dimensions? If so, how many would you say there are?\n"
   ]
  },
  {
   "cell_type": "code",
   "execution_count": null,
   "metadata": {},
   "outputs": [],
   "source": []
  },
  {
   "attachments": {},
   "cell_type": "markdown",
   "metadata": {},
   "source": [
    "9. [3 points] Use sklearn’s PCA implementation to linearly transform the data, without\n",
    "specifying the number of components to use. Create a plot with r, the number of\n",
    "components (i.e., dimensionality), on the x-axis, and f(r), the fraction of total variance\n",
    "captured in the first r principal components, on the y-axis. Based on this plot, choose a\n",
    "number of principal components to reduce the dimensionality of the data. Report how\n",
    "many principal components will be used as well as the faction of total variance captured\n",
    "using this many components."
   ]
  },
  {
   "cell_type": "code",
   "execution_count": null,
   "metadata": {},
   "outputs": [],
   "source": []
  },
  {
   "attachments": {},
   "cell_type": "markdown",
   "metadata": {},
   "source": [
    "10. [5 points] For both the original and the reduced-dimensionality data obtained using PCA in\n",
    "question 9, do the following: Experiment with a range of values for the number of clusters,\n",
    "k, that you pass as input to the k-means function, to find clusters in the chosen data set.\n",
    "Use at least 5 different values of k. For each value of k, report the value of the objective\n",
    "function for that choice of k."
   ]
  },
  {
   "cell_type": "code",
   "execution_count": null,
   "metadata": {},
   "outputs": [],
   "source": []
  },
  {
   "attachments": {},
   "cell_type": "markdown",
   "metadata": {},
   "source": [
    "11. [5 points] For both the original and the reduced-dimensionality data obtained using PCA in\n",
    "question 9, do the following: Experiment with a range of values for the mints and epsilon\n",
    "input parameters to the DBSCAN function to find clusters in the chosen data set. First keep\n",
    "epsilon fixed and try out a range of different values for minpts. Then keep minpts fixed, and\n",
    "try a range of values for epsilon. Use at least 5 values of epsilon and at least 5 values of\n",
    "minpts. Report the number of clusters found for each (minpts, epsilon) pair tested.\n"
   ]
  },
  {
   "cell_type": "code",
   "execution_count": null,
   "metadata": {},
   "outputs": [],
   "source": []
  },
  {
   "attachments": {},
   "cell_type": "markdown",
   "metadata": {},
   "source": [
    "12. Extra credit (3 points): Create a plot of clustering precision for each value of k used in\n",
    "question 10, each value of epsilon used in question 11, and each value of mints used in\n",
    "question 11, for both the original and reduced-dimensionality data.\n"
   ]
  }
 ],
 "metadata": {
  "language_info": {
   "name": "python"
  },
  "orig_nbformat": 4
 },
 "nbformat": 4,
 "nbformat_minor": 2
}
