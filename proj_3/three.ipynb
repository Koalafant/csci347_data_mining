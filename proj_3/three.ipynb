{
 "cells": [
  {
   "cell_type": "markdown",
   "metadata": {},
   "source": [
    "## CSCI 347 - Project 3 </br>\n",
    "#### Mason Reyher, Colby Roberts, Charlie Weitzenberg, Erin Scheunemann, Megan Fehres"
   ]
  },
  {
   "cell_type": "markdown",
   "metadata": {},
   "source": [
    "Choose a data set that you are interested in from the UCI Machine Learning Repository that\n",
    "has at least 5 numerical attributes, and that you believe may contain clusters. Only use the\n",
    "numerical attributes for this project. Note: if you are planning to complete the extra credit\n",
    "portion of this project, you will need to use a data set that has class labels (ground truth\n",
    "cluster labels), i.e., a classification data set, in order to compute the accuracy of the clustering.\n",
    "If you would like to use a data set from a different source, please discuss this with me.\n"
   ]
  },
  {
   "cell_type": "markdown",
   "metadata": {},
   "source": [
    "### Part 1: Think about the data\n",
    "Answer the following questions:"
   ]
  },
  {
   "cell_type": "markdown",
   "metadata": {},
   "source": [
    "Tetuan city power consumption dataset was chosen. </br>\n",
    "52417 rows, 9 attributes. 8 numerical attributes."
   ]
  },
  {
   "cell_type": "markdown",
   "metadata": {},
   "source": [
    "1. [1 point] Why are you interested in this data set?\n"
   ]
  },
  {
   "cell_type": "markdown",
   "metadata": {},
   "source": [
    "I know next to nothing about Tetouan, a city in Morocco. However, being in the northern tip of Africa (and a maritime climate), I presume the climate of this area is dynamic to say the least. I imagine there will be clusters based on the temperatures and certain city zones."
   ]
  },
  {
   "cell_type": "markdown",
   "metadata": {},
   "source": [
    "2. [1 point] How many numerical attributes and categorical attributes are there in the data set?\n"
   ]
  },
  {
   "cell_type": "markdown",
   "metadata": {},
   "source": [
    "There are 8 numerical attributes and 1 categorical (datetime)."
   ]
  },
  {
   "cell_type": "markdown",
   "metadata": {},
   "source": [
    "3. [1 point] Are there any missing values? If there are missing values, how are you planning to\n",
    "handle these (will all data instances with missing values be removed? Will all attributes with\n",
    "missing values be removed? Will missing values be imputed? If so, how?)\n"
   ]
  },
  {
   "cell_type": "markdown",
   "metadata": {},
   "source": [
    "None."
   ]
  },
  {
   "cell_type": "markdown",
   "metadata": {},
   "source": [
    "4. Before doing any analysis, answer the following questions:\n"
   ]
  },
  {
   "cell_type": "markdown",
   "metadata": {},
   "source": [
    "1. [1 point] Why do you expect clusters to be present in the data?\n"
   ]
  },
  {
   "cell_type": "markdown",
   "metadata": {},
   "source": [
    "When temperature is drastically high, many in the city will turn on their air conditioning (high power usage). There should be a postive correlation and cluster (using DBSCAN, not kmeans) as temperature increases, with power usage. It will be interesting to see if the city zone will cluster separately -- a rich district versus a poor district. However, due soley to temperature and energy usage, there will be some sort of cluster(s)."
   ]
  },
  {
   "cell_type": "markdown",
   "metadata": {},
   "source": [
    "2. [1 point] Why might finding clusters in this data set be helpful (how might this help us\n",
    "understand or analyze the data)?"
   ]
  },
  {
   "cell_type": "markdown",
   "metadata": {},
   "source": [
    "If there are clusters present between different city zones, we can use that to determine what district of the city is using tons of power. In an effort to save power, or an initiative to reduce power usage (plant trees on the tops of buildings to absorb heat in the high usage areas) we can use clustering to gain insight in how to reduce power usage."
   ]
  },
  {
   "cell_type": "markdown",
   "metadata": {},
   "source": [
    "3. [1 point] How many clusters do you expect to see in the data? Provide a range of values\n",
    "to answer this question. For example, 2 to 4. Why do you expect a number of clusters\n",
    "in this range?"
   ]
  },
  {
   "cell_type": "markdown",
   "metadata": {},
   "source": [
    "Between 2 and 3. Either there will be no cluster between city districts, and there will only be clusters correlating to power usage and temperature; or there will be three clusters between power usage and city districts. If the latter clusters are true, there will be much more useful data. "
   ]
  },
  {
   "cell_type": "markdown",
   "metadata": {},
   "source": [
    "4. [1 point] Do you expect that the clusters will be of similar size (i.e., cluster 1 is about the\n",
    "same size as cluster 2, is about the same size as cluster 3, etc..)? Why or why not?\n"
   ]
  },
  {
   "cell_type": "markdown",
   "metadata": {},
   "source": [
    "They probably won't be. The city districts are probably not the same size. More people live in one area but are poorer, and less people live in another and have more money. For example, in a richer district with less people, they'll use more power for air conditioning in the summer. In a poorer district, there will be more people, but cannot afford to use air conditioning as much, therefore power usage will decrease (this could be the complete opposite too). "
   ]
  },
  {
   "cell_type": "markdown",
   "metadata": {},
   "source": [
    "### Part 2: Write functions for graph analysis in Python\n",
    "Write the following functions in Python. You may use scikit-learn or other packages to check\n",
    "the correctness of your implementation, but you may not use any existing clustering algorithm\n",
    "implementation in your code."
   ]
  },
  {
   "cell_type": "code",
   "execution_count": 1,
   "metadata": {},
   "outputs": [
    {
     "name": "stdout",
     "output_type": "stream",
     "text": [
      "Note: you may need to restart the kernel to use updated packages.\n"
     ]
    },
    {
     "name": "stderr",
     "output_type": "stream",
     "text": [
      "\n",
      "[notice] A new release of pip available: 22.3.1 -> 23.0.1\n",
      "[notice] To update, run: python.exe -m pip install --upgrade pip\n"
     ]
    },
    {
     "name": "stdout",
     "output_type": "stream",
     "text": [
      "Note: you may need to restart the kernel to use updated packages.\n"
     ]
    },
    {
     "name": "stderr",
     "output_type": "stream",
     "text": [
      "\n",
      "[notice] A new release of pip available: 22.3.1 -> 23.0.1\n",
      "[notice] To update, run: python.exe -m pip install --upgrade pip\n"
     ]
    },
    {
     "name": "stdout",
     "output_type": "stream",
     "text": [
      "Note: you may need to restart the kernel to use updated packages.\n"
     ]
    },
    {
     "name": "stderr",
     "output_type": "stream",
     "text": [
      "\n",
      "[notice] A new release of pip available: 22.3.1 -> 23.0.1\n",
      "[notice] To update, run: python.exe -m pip install --upgrade pip\n"
     ]
    },
    {
     "name": "stdout",
     "output_type": "stream",
     "text": [
      "Note: you may need to restart the kernel to use updated packages.\n"
     ]
    },
    {
     "name": "stderr",
     "output_type": "stream",
     "text": [
      "\n",
      "[notice] A new release of pip available: 22.3.1 -> 23.0.1\n",
      "[notice] To update, run: python.exe -m pip install --upgrade pip\n"
     ]
    }
   ],
   "source": [
    "%pip install pandas -q\n",
    "%pip install numpy -q\n",
    "%pip install scikit-learn -q\n",
    "%pip install matplotlib -q"
   ]
  },
  {
   "cell_type": "code",
   "execution_count": 2,
   "metadata": {},
   "outputs": [],
   "source": [
    "import pandas as pd\n",
    "import numpy as np\n",
    "import sklearn as sk\n",
    "import matplotlib.pyplot as plt"
   ]
  },
  {
   "cell_type": "code",
   "execution_count": 3,
   "metadata": {},
   "outputs": [],
   "source": [
    "city_data = pd.read_csv('tetuan_city_power_consumption.csv')"
   ]
  },
  {
   "cell_type": "markdown",
   "metadata": {},
   "source": [
    "5. [10 points] A function that implements the k-means clustering algorithm. The function\n",
    "should take a data matrix, a number of clusters k, and a convergence parameter epsilon,\n",
    "as input, and return the representatives (means) as well as the clusters found using k-\n",
    "means. If the distance is the same between a point and more than one representative\n",
    "(mean), then assign the point to the mean corresponding to the cluster with the lowest\n",
    "index."
   ]
  },
  {
   "cell_type": "code",
   "execution_count": 4,
   "metadata": {},
   "outputs": [],
   "source": [
    "import numpy as np\n",
    "import math as m\n",
    "import random\n",
    "import matplotlib.pyplot as plt\n",
    "import pandas as pd\n",
    "\n",
    "def kmeans(data, k, epsilon):  # epsilon is the amount of change acceptable\n",
    "    dimension = len(data[0])\n",
    "    max = np.amax(data, 0) # max vals in each col\n",
    "    min = np.amin(data,0) # min vals in each col\n",
    "    guesses = [[0 for i in range(0,dimension)] for j in range(0,k)] # array for guesses with dimension, dimension x k\n",
    "    for i in range(0, k):\n",
    "        for j in range(0, dimension):\n",
    "            guesses[i][j] = random.uniform(min[j], max[j]) # random num between min and max for col\n",
    "    return kcluster(data, guesses, epsilon) # input data, initial randomized means, and epsilon\n",
    "\n",
    "def kcluster(data, means, epsilon): # this is so we can go again until difference in means < epsilon\n",
    "    cluster_assignments = np.zeros(len(data))  # make all assignments 0\n",
    "    distances = np.ones(len(data))*np.inf # set all dist to infinity\n",
    "    num_nodes_in_cluster = [0 for i in range(0, len(means))]\n",
    "    for point in range(0, len(data)): # this sorts the points into the k clusters based on dist to means\n",
    "        for k in range(0, len(means)):\n",
    "            new_distance = m.dist(data[point], means[k]) # dist from point to mean\n",
    "            if new_distance < distances[point]: # if the distance is smaller (THIS IS WHY WE START WITH INF)\n",
    "                distances[point] = new_distance # set to smaller dist\n",
    "                cluster_assignments[point] = k # assign to that mean's cluster\n",
    "        num_nodes_in_cluster[int(cluster_assignments[point])] += 1 # add one to total nodes in cluster\n",
    "    new_means = [[0 for i in range(0, len(data[0]))] for j in range(0, len(means))]\n",
    "    for point in range(0, len(data)): # add up all points in the clusters\n",
    "        new_means[int(cluster_assignments[point])] = np.add(new_means[int(cluster_assignments[point])], data[point])\n",
    "    for k in range(0, len(means)): # divide all sums by the total num in that cluster\n",
    "        new_means[k] = np.divide(new_means[k], num_nodes_in_cluster[k])\n",
    "    for k in range(0, len(means)):\n",
    "        if m.dist(means[k], new_means[k]) > epsilon: # if the dist greater than epsilon\n",
    "            kcluster(data, new_means, epsilon) # run again\n",
    "    return new_means, cluster_assignments # otherwise if all dist < epsilon return means and assignments"
   ]
  },
  {
   "cell_type": "markdown",
   "metadata": {},
   "source": [
    "6. [10 points] A function that implements the DBSCAN clustering algorithm. The function\n",
    "should take a data matrix and the parameters minpts and epsilon as input, and return the\n",
    "clusters found using DBSCAN, where each data point is labeled as either a noise point, a\n",
    "border point, or a core point."
   ]
  },
  {
   "cell_type": "code",
   "execution_count": 5,
   "metadata": {},
   "outputs": [],
   "source": [
    "def dbscan(df, min, e):\n",
    "    pass"
   ]
  },
  {
   "cell_type": "markdown",
   "metadata": {},
   "source": [
    "7. Extra credit (5 points): A function that computes the precision of a clustering. The function\n",
    "should take a list of true cluster labels and a list of the cluster labels returned by some\n",
    "clustering algorithm, and return the precision of the clustering.\n"
   ]
  },
  {
   "cell_type": "code",
   "execution_count": 6,
   "metadata": {},
   "outputs": [],
   "source": [
    "def cluster_prec(true_labels, labels):\n",
    "    pass"
   ]
  },
  {
   "cell_type": "markdown",
   "metadata": {},
   "source": [
    "### Part 3: Analyze your data\n",
    "Report the following, using tables or figures as appropriate. You may use scikit-learn’s\n",
    "implementation of k-means and DBSCAN, but you are encouraged to first try using your own\n",
    "implementations on real-world data."
   ]
  },
  {
   "cell_type": "markdown",
   "metadata": {},
   "source": [
    "8. [4 points] Use sklearn’s PCA implementation to linearly transform the data to two\n",
    "dimensions. Create a scatter plot of the data, with the x-axis corresponding to coordinates\n",
    "of the data along the first principal component, and the y-axis corresponding to\n",
    "coordinates of the data along the second principal component. Does it look like there are\n",
    "clusters in these two dimensions? If so, how many would you say there are?\n"
   ]
  },
  {
   "cell_type": "code",
   "execution_count": null,
   "metadata": {},
   "outputs": [],
   "source": [
    "import matplotlib.pyplot as plt\n",
    "import pandas as pd\n",
    "from sklearn.decomposition import PCA\n",
    "\n",
    "df = pd.read_csv('C:/Users/cweit/Desktop/Jupyter Lab/data/tetuan_city_power_consumption.csv', header=None, skiprows=1) \n",
    "df = df.drop(df.columns[0], axis=1)\n",
    "array=df.values\n",
    "\n",
    "pca = PCA(n_components=2)\n",
    "arrayt = pca.fit_transform(array)\n",
    "\n",
    "plt.scatter(array[:,0], array[:,1], s=1)\n",
    "plt.xlabel('First Principal Component')\n",
    "plt.ylabel('Second Principal Component')\n",
    "plt.title('PCA Transformed Data')\n",
    "plt.show()\n",
    "    \n",
    "arrayt = standard_normalize(array)"
   ]
  },
  {
   "cell_type": "markdown",
   "metadata": {},
   "source": [
    "9. [3 points] Use sklearn’s PCA implementation to linearly transform the data, without\n",
    "specifying the number of components to use. Create a plot with r, the number of\n",
    "components (i.e., dimensionality), on the x-axis, and f(r), the fraction of total variance\n",
    "captured in the first r principal components, on the y-axis. Based on this plot, choose a\n",
    "number of principal components to reduce the dimensionality of the data. Report how\n",
    "many principal components will be used as well as the faction of total variance captured\n",
    "using this many components."
   ]
  },
  {
   "cell_type": "code",
   "execution_count": 13,
   "metadata": {},
   "outputs": [
    {
     "ename": "ValueError",
     "evalue": "x and y must have same first dimension, but have shapes (7,) and (8,)",
     "output_type": "error",
     "traceback": [
      "\u001b[1;31m---------------------------------------------------------------------------\u001b[0m",
      "\u001b[1;31mValueError\u001b[0m                                Traceback (most recent call last)",
      "Cell \u001b[1;32mIn[13], line 12\u001b[0m\n\u001b[0;32m      9\u001b[0m varExp \u001b[39m=\u001b[39m pca\u001b[39m.\u001b[39mexplained_variance_ratio_\n\u001b[0;32m     10\u001b[0m cs \u001b[39m=\u001b[39m np\u001b[39m.\u001b[39mcumsum(varExp)\n\u001b[1;32m---> 12\u001b[0m plt\u001b[39m.\u001b[39;49mplot(\u001b[39mrange\u001b[39;49m(\u001b[39m1\u001b[39;49m, width), cs)\n\u001b[0;32m     13\u001b[0m plt\u001b[39m.\u001b[39mxlabel(\u001b[39m'\u001b[39m\u001b[39mNumber Of Components\u001b[39m\u001b[39m'\u001b[39m)\n\u001b[0;32m     14\u001b[0m plt\u001b[39m.\u001b[39mylabel(\u001b[39m'\u001b[39m\u001b[39mCumulative Explained Variance\u001b[39m\u001b[39m'\u001b[39m)\n",
      "File \u001b[1;32mc:\\Users\\Colby\\AppData\\Local\\Programs\\Python\\Python310\\lib\\site-packages\\matplotlib\\pyplot.py:2812\u001b[0m, in \u001b[0;36mplot\u001b[1;34m(scalex, scaley, data, *args, **kwargs)\u001b[0m\n\u001b[0;32m   2810\u001b[0m \u001b[39m@_copy_docstring_and_deprecators\u001b[39m(Axes\u001b[39m.\u001b[39mplot)\n\u001b[0;32m   2811\u001b[0m \u001b[39mdef\u001b[39;00m \u001b[39mplot\u001b[39m(\u001b[39m*\u001b[39margs, scalex\u001b[39m=\u001b[39m\u001b[39mTrue\u001b[39;00m, scaley\u001b[39m=\u001b[39m\u001b[39mTrue\u001b[39;00m, data\u001b[39m=\u001b[39m\u001b[39mNone\u001b[39;00m, \u001b[39m*\u001b[39m\u001b[39m*\u001b[39mkwargs):\n\u001b[1;32m-> 2812\u001b[0m     \u001b[39mreturn\u001b[39;00m gca()\u001b[39m.\u001b[39mplot(\n\u001b[0;32m   2813\u001b[0m         \u001b[39m*\u001b[39margs, scalex\u001b[39m=\u001b[39mscalex, scaley\u001b[39m=\u001b[39mscaley,\n\u001b[0;32m   2814\u001b[0m         \u001b[39m*\u001b[39m\u001b[39m*\u001b[39m({\u001b[39m\"\u001b[39m\u001b[39mdata\u001b[39m\u001b[39m\"\u001b[39m: data} \u001b[39mif\u001b[39;00m data \u001b[39mis\u001b[39;00m \u001b[39mnot\u001b[39;00m \u001b[39mNone\u001b[39;00m \u001b[39melse\u001b[39;00m {}), \u001b[39m*\u001b[39m\u001b[39m*\u001b[39mkwargs)\n",
      "File \u001b[1;32mc:\\Users\\Colby\\AppData\\Local\\Programs\\Python\\Python310\\lib\\site-packages\\matplotlib\\axes\\_axes.py:1688\u001b[0m, in \u001b[0;36mAxes.plot\u001b[1;34m(self, scalex, scaley, data, *args, **kwargs)\u001b[0m\n\u001b[0;32m   1445\u001b[0m \u001b[39m\u001b[39m\u001b[39m\"\"\"\u001b[39;00m\n\u001b[0;32m   1446\u001b[0m \u001b[39mPlot y versus x as lines and/or markers.\u001b[39;00m\n\u001b[0;32m   1447\u001b[0m \n\u001b[1;32m   (...)\u001b[0m\n\u001b[0;32m   1685\u001b[0m \u001b[39m(``'green'``) or hex strings (``'#008000'``).\u001b[39;00m\n\u001b[0;32m   1686\u001b[0m \u001b[39m\"\"\"\u001b[39;00m\n\u001b[0;32m   1687\u001b[0m kwargs \u001b[39m=\u001b[39m cbook\u001b[39m.\u001b[39mnormalize_kwargs(kwargs, mlines\u001b[39m.\u001b[39mLine2D)\n\u001b[1;32m-> 1688\u001b[0m lines \u001b[39m=\u001b[39m [\u001b[39m*\u001b[39m\u001b[39mself\u001b[39m\u001b[39m.\u001b[39m_get_lines(\u001b[39m*\u001b[39margs, data\u001b[39m=\u001b[39mdata, \u001b[39m*\u001b[39m\u001b[39m*\u001b[39mkwargs)]\n\u001b[0;32m   1689\u001b[0m \u001b[39mfor\u001b[39;00m line \u001b[39min\u001b[39;00m lines:\n\u001b[0;32m   1690\u001b[0m     \u001b[39mself\u001b[39m\u001b[39m.\u001b[39madd_line(line)\n",
      "File \u001b[1;32mc:\\Users\\Colby\\AppData\\Local\\Programs\\Python\\Python310\\lib\\site-packages\\matplotlib\\axes\\_base.py:311\u001b[0m, in \u001b[0;36m_process_plot_var_args.__call__\u001b[1;34m(self, data, *args, **kwargs)\u001b[0m\n\u001b[0;32m    309\u001b[0m     this \u001b[39m+\u001b[39m\u001b[39m=\u001b[39m args[\u001b[39m0\u001b[39m],\n\u001b[0;32m    310\u001b[0m     args \u001b[39m=\u001b[39m args[\u001b[39m1\u001b[39m:]\n\u001b[1;32m--> 311\u001b[0m \u001b[39myield from\u001b[39;00m \u001b[39mself\u001b[39;49m\u001b[39m.\u001b[39;49m_plot_args(\n\u001b[0;32m    312\u001b[0m     this, kwargs, ambiguous_fmt_datakey\u001b[39m=\u001b[39;49mambiguous_fmt_datakey)\n",
      "File \u001b[1;32mc:\\Users\\Colby\\AppData\\Local\\Programs\\Python\\Python310\\lib\\site-packages\\matplotlib\\axes\\_base.py:504\u001b[0m, in \u001b[0;36m_process_plot_var_args._plot_args\u001b[1;34m(self, tup, kwargs, return_kwargs, ambiguous_fmt_datakey)\u001b[0m\n\u001b[0;32m    501\u001b[0m     \u001b[39mself\u001b[39m\u001b[39m.\u001b[39maxes\u001b[39m.\u001b[39myaxis\u001b[39m.\u001b[39mupdate_units(y)\n\u001b[0;32m    503\u001b[0m \u001b[39mif\u001b[39;00m x\u001b[39m.\u001b[39mshape[\u001b[39m0\u001b[39m] \u001b[39m!=\u001b[39m y\u001b[39m.\u001b[39mshape[\u001b[39m0\u001b[39m]:\n\u001b[1;32m--> 504\u001b[0m     \u001b[39mraise\u001b[39;00m \u001b[39mValueError\u001b[39;00m(\u001b[39mf\u001b[39m\u001b[39m\"\u001b[39m\u001b[39mx and y must have same first dimension, but \u001b[39m\u001b[39m\"\u001b[39m\n\u001b[0;32m    505\u001b[0m                      \u001b[39mf\u001b[39m\u001b[39m\"\u001b[39m\u001b[39mhave shapes \u001b[39m\u001b[39m{\u001b[39;00mx\u001b[39m.\u001b[39mshape\u001b[39m}\u001b[39;00m\u001b[39m and \u001b[39m\u001b[39m{\u001b[39;00my\u001b[39m.\u001b[39mshape\u001b[39m}\u001b[39;00m\u001b[39m\"\u001b[39m)\n\u001b[0;32m    506\u001b[0m \u001b[39mif\u001b[39;00m x\u001b[39m.\u001b[39mndim \u001b[39m>\u001b[39m \u001b[39m2\u001b[39m \u001b[39mor\u001b[39;00m y\u001b[39m.\u001b[39mndim \u001b[39m>\u001b[39m \u001b[39m2\u001b[39m:\n\u001b[0;32m    507\u001b[0m     \u001b[39mraise\u001b[39;00m \u001b[39mValueError\u001b[39;00m(\u001b[39mf\u001b[39m\u001b[39m\"\u001b[39m\u001b[39mx and y can be no greater than 2D, but have \u001b[39m\u001b[39m\"\u001b[39m\n\u001b[0;32m    508\u001b[0m                      \u001b[39mf\u001b[39m\u001b[39m\"\u001b[39m\u001b[39mshapes \u001b[39m\u001b[39m{\u001b[39;00mx\u001b[39m.\u001b[39mshape\u001b[39m}\u001b[39;00m\u001b[39m and \u001b[39m\u001b[39m{\u001b[39;00my\u001b[39m.\u001b[39mshape\u001b[39m}\u001b[39;00m\u001b[39m\"\u001b[39m)\n",
      "\u001b[1;31mValueError\u001b[0m: x and y must have same first dimension, but have shapes (7,) and (8,)"
     ]
    },
    {
     "data": {
      "image/png": "[encoded data removed]",
      "text/plain": [
       "<Figure size 640x480 with 1 Axes>"
      ]
     },
     "metadata": {},
     "output_type": "display_data"
    }
   ],
   "source": [
    "import sklearn.preprocessing\n",
    "import sklearn.decomposition\n",
    "\n",
    "dataArr = city_data.drop(city_data.columns[0], axis=1)\n",
    "array = dataArr.values\n",
    "length, width = array.shape\n",
    "pca = sklearn.decomposition.PCA(n_components = width)\n",
    "tf = pca.fit_transform(array)\n",
    "varExp = pca.explained_variance_ratio_\n",
    "cs = np.cumsum(varExp)\n",
    "\n",
    "plt.plot(range(1, width+1), cs)\n",
    "plt.xlabel('Number Of Components')\n",
    "plt.ylabel('Cumulative Explained Variance')\n",
    "plt.title('Explained Variance by Principal Components')\n",
    "plt.grid(True)\n",
    "plt.show()"
   ]
  },
  {
   "cell_type": "markdown",
   "metadata": {},
   "source": [
    "10. [5 points] For both the original and the reduced-dimensionality data obtained using PCA in\n",
    "question 9, do the following: Experiment with a range of values for the number of clusters,\n",
    "k, that you pass as input to the k-means function, to find clusters in the chosen data set.\n",
    "Use at least 5 different values of k. For each value of k, report the value of the objective\n",
    "function for that choice of k."
   ]
  },
  {
   "cell_type": "code",
   "execution_count": null,
   "metadata": {},
   "outputs": [],
   "source": []
  },
  {
   "cell_type": "markdown",
   "metadata": {},
   "source": [
    "11. [5 points] For both the original and the reduced-dimensionality data obtained using PCA in\n",
    "question 9, do the following: Experiment with a range of values for the mints and epsilon\n",
    "input parameters to the DBSCAN function to find clusters in the chosen data set. First keep\n",
    "epsilon fixed and try out a range of different values for minpts. Then keep minpts fixed, and\n",
    "try a range of values for epsilon. Use at least 5 values of epsilon and at least 5 values of\n",
    "minpts. Report the number of clusters found for each (minpts, epsilon) pair tested.\n"
   ]
  },
  {
   "cell_type": "code",
   "execution_count": null,
   "metadata": {},
   "outputs": [],
   "source": []
  },
  {
   "cell_type": "markdown",
   "metadata": {},
   "source": [
    "12. Extra credit (3 points): Create a plot of clustering precision for each value of k used in\n",
    "question 10, each value of epsilon used in question 11, and each value of mints used in\n",
    "question 11, for both the original and reduced-dimensionality data.\n"
   ]
  }
 ],
 "metadata": {
  "kernelspec": {
   "display_name": "Python 3 (ipykernel)",
   "language": "python",
   "name": "python3"
  },
  "language_info": {
   "codemirror_mode": {
    "name": "ipython",
    "version": 3
   },
   "file_extension": ".py",
   "mimetype": "text/x-python",
   "name": "python",
   "nbconvert_exporter": "python",
   "pygments_lexer": "ipython3",
   "version": "3.8.5"
  }
 },
 "nbformat": 4,
 "nbformat_minor": 4
}
